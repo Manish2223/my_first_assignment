{
 "cells": [
  {
   "cell_type": "raw",
   "id": "f4e2d026-350e-460f-b53b-af888aae3243",
   "metadata": {},
   "source": [
    "#conditionals>> i will play cricket when the weather is sunny\n",
    "#loop>> i can play cricket again and again till the day end\n",
    "#break>>i will play cricket until my mom colls me for the dinner"
   ]
  },
  {
   "cell_type": "raw",
   "id": "95ec1cdf-37a2-41c9-96da-3c9f8ecd41fa",
   "metadata": {},
   "source": [
    "#conditional statements>> helps to code decisions based on some preconditions"
   ]
  },
  {
   "cell_type": "code",
   "execution_count": 8,
   "id": "a9441af1-a825-4217-893a-dcf9223e92b8",
   "metadata": {},
   "outputs": [],
   "source": [
    "#if\n",
    "#if else\n",
    "#if elip(elself) else\n",
    "#nested if else"
   ]
  },
  {
   "cell_type": "code",
   "execution_count": 11,
   "id": "4fd4446c-d94a-4fe9-a37e-be45695c5c5c",
   "metadata": {},
   "outputs": [],
   "source": [
    "#if statements\n",
    "#syntax\n",
    "#if condition is true:\n",
    "# block of the code will be execued"
   ]
  },
  {
   "cell_type": "code",
   "execution_count": 23,
   "id": "1eca213f-e50c-4acc-a1a6-014125a38637",
   "metadata": {},
   "outputs": [
    {
     "name": "stdout",
     "output_type": "stream",
     "text": [
      " The number is greater than 0.\n"
     ]
    }
   ],
   "source": [
    "a = 100\n",
    "if a > 0: #execute the if block condition is true\n",
    "    print(' The number is greater than 0.')"
   ]
  },
  {
   "cell_type": "code",
   "execution_count": 29,
   "id": "acd615ee-efa9-4653-9c1b-c233fbe5becf",
   "metadata": {},
   "outputs": [
    {
     "name": "stdout",
     "output_type": "stream",
     "text": [
      " will not play\n"
     ]
    }
   ],
   "source": [
    "weather ='rainy'\n",
    "if weather == 'rainy':\n",
    "    print(' will not play') #indentation is neccessary here"
   ]
  },
  {
   "cell_type": "code",
   "execution_count": 34,
   "id": "df03b54b-f452-483c-a148-de338ac159e8",
   "metadata": {},
   "outputs": [
    {
     "name": "stdout",
     "output_type": "stream",
     "text": [
      "room temp\n"
     ]
    }
   ],
   "source": [
    "tep = 30\n",
    "if tep>25:\n",
    "    print('room temp')\n",
    "    "
   ]
  },
  {
   "cell_type": "code",
   "execution_count": 36,
   "id": "3ed198fc-0f02-46ee-9caf-fba7ec1334d8",
   "metadata": {},
   "outputs": [
    {
     "name": "stdout",
     "output_type": "stream",
     "text": [
      " iam studying the coruse\n"
     ]
    }
   ],
   "source": [
    "is_ds_course = True\n",
    "if is_ds_course:\n",
    "    print(' iam studying the coruse')"
   ]
  },
  {
   "cell_type": "code",
   "execution_count": 38,
   "id": "fdbe54d7-f291-4c63-bc9c-03981c1d59da",
   "metadata": {},
   "outputs": [
    {
     "name": "stdout",
     "output_type": "stream",
     "text": [
      " you re exclt\n"
     ]
    }
   ],
   "source": [
    "grade= 8\n",
    "if grade >=8:\n",
    "    print (' you re exclt')"
   ]
  },
  {
   "cell_type": "code",
   "execution_count": 40,
   "id": "bce3d700-cd6d-41cf-97b1-dfc33bad6fb5",
   "metadata": {},
   "outputs": [
    {
     "name": "stdout",
     "output_type": "stream",
     "text": [
      "the number is even\n"
     ]
    }
   ],
   "source": [
    "number =42\n",
    "if number %2 ==0:\n",
    "    print('the number is even')"
   ]
  },
  {
   "cell_type": "code",
   "execution_count": 41,
   "id": "d2fb93e8-d348-43f9-9aed-6c7bdc95213f",
   "metadata": {},
   "outputs": [
    {
     "name": "stdout",
     "output_type": "stream",
     "text": [
      "this is the no of interest\n"
     ]
    }
   ],
   "source": [
    "#in real life, generally decision are made based ob multiple conditions.\n",
    "no = 42\n",
    "if ((no % 2 == 0) & (no>0)):\n",
    "    print('this is the no of interest')"
   ]
  },
  {
   "cell_type": "code",
   "execution_count": 45,
   "id": "01024a28-c6b9-466b-b256-1c8fd261702e",
   "metadata": {},
   "outputs": [
    {
     "name": "stdout",
     "output_type": "stream",
     "text": [
      "you re all rounder\n"
     ]
    }
   ],
   "source": [
    "grade = 8\n",
    "co_cir = True\n",
    "if ((grade >=8) and (co_cir == True)):\n",
    "    print ('you re all rounder')\n",
    "    "
   ]
  },
  {
   "cell_type": "code",
   "execution_count": 46,
   "id": "f7e389ee-93b5-46b1-9bd7-8c0f26364650",
   "metadata": {},
   "outputs": [],
   "source": [
    "#in real life >> if one condition is bit fulfilled, you will do something else\n",
    "#example if weather is not rainy, i will go ot play cecikert else i willl watch tv"
   ]
  },
  {
   "cell_type": "code",
   "execution_count": 51,
   "id": "1d826bab-fb3c-4d20-b575-a75f231b2145",
   "metadata": {},
   "outputs": [
    {
     "name": "stdout",
     "output_type": "stream",
     "text": [
      " i will watch movie \n"
     ]
    }
   ],
   "source": [
    "#if else>> execute the if block when condition is true else execute else block\n",
    "weather ='sunny'\n",
    "if weather == 'rainy': #condition is truw, execute this one\n",
    "    print(' will play')\n",
    "else: #condition is not true, execute this one\n",
    "    print(' i will watch movie ')"
   ]
  },
  {
   "cell_type": "code",
   "execution_count": 65,
   "id": "e0a16788-85c6-4ad9-9185-94859244dc1c",
   "metadata": {},
   "outputs": [
    {
     "name": "stdout",
     "output_type": "stream",
     "text": [
      " You re not legal\n"
     ]
    }
   ],
   "source": [
    "age = 20\n",
    "if (age >= 21):\n",
    "    print('You re legal to buy the alcohol')\n",
    "else:\n",
    "    print(' You re not legal')"
   ]
  },
  {
   "cell_type": "code",
   "execution_count": 4,
   "id": "22b78717-2388-411d-af7c-5f52dcbf5f32",
   "metadata": {},
   "outputs": [
    {
     "name": "stdout",
     "output_type": "stream",
     "text": [
      " Please drive\n"
     ]
    }
   ],
   "source": [
    "age = 19\n",
    "if age >=18:\n",
    "    print(' Please drive')\n",
    "else:\n",
    "    print('dont drive')"
   ]
  },
  {
   "cell_type": "code",
   "execution_count": 5,
   "id": "c8465974-0315-4273-a2c0-0714d791eeb5",
   "metadata": {},
   "outputs": [
    {
     "name": "stdout",
     "output_type": "stream",
     "text": [
      "i am studying\n"
     ]
    }
   ],
   "source": [
    "a = True\n",
    "if a:\n",
    "    print('i am studying')\n",
    "else:\n",
    "    print('i am not studying')"
   ]
  },
  {
   "cell_type": "code",
   "execution_count": 7,
   "id": "26d585b5-4d0f-4e50-b5fd-648bbbef7a46",
   "metadata": {},
   "outputs": [
    {
     "name": "stdout",
     "output_type": "stream",
     "text": [
      "the no is less than 5\n"
     ]
    }
   ],
   "source": [
    "x = 1\n",
    "if x >5:\n",
    "    print('x is greater than 5')\n",
    "else:\n",
    "    print('the no is less than 5')"
   ]
  },
  {
   "cell_type": "code",
   "execution_count": 8,
   "id": "f97375c3-cacf-431b-8d5c-ab945630dd06",
   "metadata": {},
   "outputs": [
    {
     "data": {
      "text/plain": [
       "9.0"
      ]
     },
     "execution_count": 8,
     "metadata": {},
     "output_type": "execute_result"
    }
   ],
   "source": [
    "#to check the no is even\n",
    "\n",
    "18/2"
   ]
  },
  {
   "cell_type": "code",
   "execution_count": 9,
   "id": "d1fa929f-0c7e-4891-af54-0693a5fb68e4",
   "metadata": {},
   "outputs": [
    {
     "data": {
      "text/plain": [
       "0"
      ]
     },
     "execution_count": 9,
     "metadata": {},
     "output_type": "execute_result"
    }
   ],
   "source": [
    "6 % 2"
   ]
  },
  {
   "cell_type": "code",
   "execution_count": 15,
   "id": "37c6aa27-95c6-41f6-8d20-274224357107",
   "metadata": {},
   "outputs": [
    {
     "name": "stdout",
     "output_type": "stream",
     "text": [
      "no is odd\n"
     ]
    }
   ],
   "source": [
    "no = 5\n",
    "if no % 2 ==0:\n",
    "    print('no is even')\n",
    "else:\n",
    "    print('no is odd')"
   ]
  },
  {
   "cell_type": "code",
   "execution_count": 18,
   "id": "165066d7-51a0-4296-b717-83b59af0c808",
   "metadata": {},
   "outputs": [
    {
     "name": "stdout",
     "output_type": "stream",
     "text": [
      "pass\n"
     ]
    }
   ],
   "source": [
    "score= 55\n",
    "if score >= 33:\n",
    "    print('pass')\n",
    "else:\n",
    "    print('fail')"
   ]
  },
  {
   "cell_type": "code",
   "execution_count": 23,
   "id": "af53200e-f725-411d-8ff7-166bde2071a5",
   "metadata": {},
   "outputs": [
    {
     "name": "stdout",
     "output_type": "stream",
     "text": [
      "this block is executed if a is greater then 100\n"
     ]
    }
   ],
   "source": [
    "a = 101\n",
    "if a >100:\n",
    "    print('this block is executed if a is greater then 100')\n",
    "elif a<100:\n",
    "    print('this block is execute if a lesser than 100')\n",
    "else:\n",
    "    print('the no is equal to 100')"
   ]
  },
  {
   "cell_type": "code",
   "execution_count": 28,
   "id": "c51f02c7-f6af-4a0d-8e48-3d5738cc8890",
   "metadata": {},
   "outputs": [
    {
     "name": "stdout",
     "output_type": "stream",
     "text": [
      "the no is equal to 100\n"
     ]
    }
   ],
   "source": [
    "a = 100\n",
    "if a < 100:\n",
    "    print('this block is executed if a is lesser then 100')\n",
    "elif a>2000:\n",
    "    print('huge no')\n",
    "elif a >100:\n",
    "    print('the no is greter than 100')\n",
    "else:\n",
    "    print('the no is equal to 100')"
   ]
  },
  {
   "cell_type": "code",
   "execution_count": 39,
   "id": "b926dad2-c7a4-48cb-be16-9a9def9ac1a3",
   "metadata": {},
   "outputs": [
    {
     "name": "stdout",
     "output_type": "stream",
     "text": [
      "fail\n"
     ]
    }
   ],
   "source": [
    "score = 0\n",
    "if score >=90:\n",
    "    print('grade a')\n",
    "elif (80<=score<90):\n",
    "    print('grade b')\n",
    "elif (70<=score<80):\n",
    "    print('grade c')\n",
    "elif (33<=score<70):\n",
    "    print('grade d')\n",
    "else:\n",
    "    print(\"fail\")"
   ]
  },
  {
   "cell_type": "code",
   "execution_count": 44,
   "id": "2f059b99-d2e1-4721-adf3-9e673c8f7db9",
   "metadata": {},
   "outputs": [
    {
     "name": "stdout",
     "output_type": "stream",
     "text": [
      "minor\n"
     ]
    }
   ],
   "source": [
    "age = 17\n",
    "if age < 18:\n",
    "    print('minor')\n",
    "elif (18<age<=65):\n",
    "    print('adult')\n",
    "else:\n",
    "    print('senior citizen')"
   ]
  },
  {
   "cell_type": "code",
   "execution_count": 55,
   "id": "194bebd0-b222-44ec-9b43-e45fb41ea329",
   "metadata": {},
   "outputs": [
    {
     "name": "stdout",
     "output_type": "stream",
     "text": [
      "x is greater than 5\n"
     ]
    }
   ],
   "source": [
    "#nested if else>> you can have multiple if else inside if else\n",
    "x = 7\n",
    "y = 2\n",
    "if x > 5:\n",
    "    if y > 5:\n",
    "        print(\"both are greater than 5\")\n",
    "    else:\n",
    "        print('x is greater than 5')\n",
    "else:\n",
    "    print('x is not greater than 5')"
   ]
  },
  {
   "cell_type": "code",
   "execution_count": 72,
   "id": "a0df02e1-b1e5-4b99-abc4-66762190b209",
   "metadata": {},
   "outputs": [
    {
     "name": "stdout",
     "output_type": "stream",
     "text": [
      "youre not a vip customer and will be charge as a regular customer\n"
     ]
    }
   ],
   "source": [
    "vip = 0\n",
    "age = 19\n",
    "if vip:\n",
    "    if age >=18:\n",
    "        if age < 65:\n",
    "            print('welcome to vip customer')\n",
    "        else:\n",
    "            print('youre vip and very imp for us, youre eligible for senior citizen discount')\n",
    "    else:\n",
    "        print('vip status is only for adults')\n",
    "else:\n",
    "    print('youre not a vip customer and will be charge as a regular customer')"
   ]
  },
  {
   "cell_type": "code",
   "execution_count": 88,
   "id": "345386bf-a6de-45e7-bead-ac221b3af54e",
   "metadata": {},
   "outputs": [
    {
     "name": "stdin",
     "output_type": "stream",
     "text": [
      "Enter The Number 15\n"
     ]
    },
    {
     "name": "stdout",
     "output_type": "stream",
     "text": [
      "not eligible\n"
     ]
    }
   ],
   "source": [
    "a = int(input('Enter The Number'))\n",
    "if a >= 18:\n",
    "    print('eligible')\n",
    "else:\n",
    "    print('not eligible')"
   ]
  },
  {
   "cell_type": "code",
   "execution_count": 95,
   "id": "18affb17-fe47-4ccd-bb30-8f66dabe2b05",
   "metadata": {},
   "outputs": [
    {
     "name": "stdin",
     "output_type": "stream",
     "text": [
      "Please enter your name Manish Nanda\n",
      "Please enter your email manishnan22@gmail.com\n",
      "please enter your password manni8800\n"
     ]
    },
    {
     "name": "stdout",
     "output_type": "stream",
     "text": [
      "successfully regitered with us\n"
     ]
    }
   ],
   "source": [
    "name= input('Please enter your name')\n",
    "email = input('Please enter your email')\n",
    "password = input('please enter your password')\n",
    "\n",
    "if name == \"\":\n",
    "    print('please enter the valid name cannot be empty')\n",
    "else:\n",
    "    if '@' not in email:\n",
    "        print('please enter the valid email')\n",
    "    else:\n",
    "        if len(password) < 6:\n",
    "            print('please enter the password more than 6 characters')\n",
    "        else:\n",
    "            print('successfully regitered with us')"
   ]
  },
  {
   "cell_type": "code",
   "execution_count": null,
   "id": "334ef068-ca17-4f24-b56f-0b40ddb919b5",
   "metadata": {},
   "outputs": [],
   "source": []
  }
 ],
 "metadata": {
  "kernelspec": {
   "display_name": "Python 3 (ipykernel)",
   "language": "python",
   "name": "python3"
  },
  "language_info": {
   "codemirror_mode": {
    "name": "ipython",
    "version": 3
   },
   "file_extension": ".py",
   "mimetype": "text/x-python",
   "name": "python",
   "nbconvert_exporter": "python",
   "pygments_lexer": "ipython3",
   "version": "3.10.8"
  }
 },
 "nbformat": 4,
 "nbformat_minor": 5
}
