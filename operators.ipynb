{
 "cells": [
  {
   "cell_type": "raw",
   "id": "60f2e9cd-7797-4038-8805-668c953e1c08",
   "metadata": {},
   "source": [
    "#operators>> arithmetic, comparison, logical, bitwise, assignment, membership, identify"
   ]
  },
  {
   "cell_type": "code",
   "execution_count": 2,
   "id": "5f40baa7-c965-4af3-91d4-8c8901561c78",
   "metadata": {},
   "outputs": [
    {
     "data": {
      "text/plain": [
       "5"
      ]
     },
     "execution_count": 2,
     "metadata": {},
     "output_type": "execute_result"
    }
   ],
   "source": [
    "a= 3\n",
    "b = 2\n",
    "a+b"
   ]
  },
  {
   "cell_type": "code",
   "execution_count": 3,
   "id": "9304c096-ba6d-409c-a3ac-593f035cd25b",
   "metadata": {},
   "outputs": [],
   "source": [
    "#it is know as arithmetic operators"
   ]
  },
  {
   "cell_type": "code",
   "execution_count": 4,
   "id": "1885d58a-a534-4f5e-89af-45df0d5fd627",
   "metadata": {},
   "outputs": [
    {
     "data": {
      "text/plain": [
       "5"
      ]
     },
     "execution_count": 4,
     "metadata": {},
     "output_type": "execute_result"
    }
   ],
   "source": [
    "ad = a+b\n",
    "ad"
   ]
  },
  {
   "cell_type": "code",
   "execution_count": 5,
   "id": "76d5ab57-f5ec-4808-8746-0d2e54198170",
   "metadata": {},
   "outputs": [
    {
     "data": {
      "text/plain": [
       "97"
      ]
     },
     "execution_count": 5,
     "metadata": {},
     "output_type": "execute_result"
    }
   ],
   "source": [
    "100-3"
   ]
  },
  {
   "cell_type": "code",
   "execution_count": 6,
   "id": "e0901f18-5708-4fbe-a875-9d5ae124ca52",
   "metadata": {},
   "outputs": [
    {
     "data": {
      "text/plain": [
       "-2"
      ]
     },
     "execution_count": 6,
     "metadata": {},
     "output_type": "execute_result"
    }
   ],
   "source": [
    "3-5"
   ]
  },
  {
   "cell_type": "code",
   "execution_count": 7,
   "id": "7431cf3b-600a-4783-afa9-6bb464dc1f5a",
   "metadata": {},
   "outputs": [
    {
     "data": {
      "text/plain": [
       "15"
      ]
     },
     "execution_count": 7,
     "metadata": {},
     "output_type": "execute_result"
    }
   ],
   "source": [
    "5*3"
   ]
  },
  {
   "cell_type": "code",
   "execution_count": 8,
   "id": "e909c30f-61a4-48c2-ae12-a264c431a6d3",
   "metadata": {},
   "outputs": [
    {
     "data": {
      "text/plain": [
       "5.25"
      ]
     },
     "execution_count": 8,
     "metadata": {},
     "output_type": "execute_result"
    }
   ],
   "source": [
    "21/4"
   ]
  },
  {
   "cell_type": "code",
   "execution_count": 9,
   "id": "c42f6c14-c0b6-438b-b098-9e7bce7a8bfb",
   "metadata": {},
   "outputs": [
    {
     "data": {
      "text/plain": [
       "5.0"
      ]
     },
     "execution_count": 9,
     "metadata": {},
     "output_type": "execute_result"
    }
   ],
   "source": [
    "20/4"
   ]
  },
  {
   "cell_type": "code",
   "execution_count": 10,
   "id": "9fc607fa-0f8c-4984-8580-6c0d9107c812",
   "metadata": {},
   "outputs": [
    {
     "data": {
      "text/plain": [
       "1"
      ]
     },
     "execution_count": 10,
     "metadata": {},
     "output_type": "execute_result"
    }
   ],
   "source": [
    "#modulus operators\n",
    "21 % 4"
   ]
  },
  {
   "cell_type": "code",
   "execution_count": 11,
   "id": "8b81fad8-fbdb-4820-a0ff-0d4114efe13d",
   "metadata": {},
   "outputs": [
    {
     "data": {
      "text/plain": [
       "15"
      ]
     },
     "execution_count": 11,
     "metadata": {},
     "output_type": "execute_result"
    }
   ],
   "source": [
    "100 % 17"
   ]
  },
  {
   "cell_type": "code",
   "execution_count": 13,
   "id": "f8e84e27-a732-4f9f-9067-015e14a5bfe8",
   "metadata": {},
   "outputs": [
    {
     "data": {
      "text/plain": [
       "32"
      ]
     },
     "execution_count": 13,
     "metadata": {},
     "output_type": "execute_result"
    }
   ],
   "source": [
    "2 ** 5 #2 power to 5"
   ]
  },
  {
   "cell_type": "code",
   "execution_count": 18,
   "id": "708e9047-940d-45cd-85fc-9442212b3ab8",
   "metadata": {},
   "outputs": [
    {
     "data": {
      "text/plain": [
       "515377520732011331036461129765621272702107522001"
      ]
     },
     "execution_count": 18,
     "metadata": {},
     "output_type": "execute_result"
    }
   ],
   "source": [
    "3**100"
   ]
  },
  {
   "cell_type": "code",
   "execution_count": 19,
   "id": "ab88ac73-4a16-4722-b588-249b7ef1626d",
   "metadata": {},
   "outputs": [
    {
     "data": {
      "text/plain": [
       "1.3333333333333333"
      ]
     },
     "execution_count": 19,
     "metadata": {},
     "output_type": "execute_result"
    }
   ],
   "source": [
    "4/3"
   ]
  },
  {
   "cell_type": "code",
   "execution_count": 22,
   "id": "785193f4-bad8-4312-9004-3333f1c60771",
   "metadata": {},
   "outputs": [
    {
     "data": {
      "text/plain": [
       "1"
      ]
     },
     "execution_count": 22,
     "metadata": {},
     "output_type": "execute_result"
    }
   ],
   "source": [
    "4 //3 #floor operator.. begining the value to lower side"
   ]
  },
  {
   "cell_type": "code",
   "execution_count": 24,
   "id": "4b4f523c-5979-4b40-bc86-41812dc0bcd0",
   "metadata": {},
   "outputs": [],
   "source": [
    "#comparison operators>> comparing two values>> return a boolean value"
   ]
  },
  {
   "cell_type": "code",
   "execution_count": 25,
   "id": "f0118f82-a894-412c-bafb-9efb1b2c9154",
   "metadata": {},
   "outputs": [
    {
     "data": {
      "text/plain": [
       "True"
      ]
     },
     "execution_count": 25,
     "metadata": {},
     "output_type": "execute_result"
    }
   ],
   "source": [
    "2 == 2"
   ]
  },
  {
   "cell_type": "code",
   "execution_count": 26,
   "id": "091fcbf0-c572-4ef7-8a83-5d9f632043e2",
   "metadata": {},
   "outputs": [
    {
     "data": {
      "text/plain": [
       "False"
      ]
     },
     "execution_count": 26,
     "metadata": {},
     "output_type": "execute_result"
    }
   ],
   "source": [
    "2 != 2"
   ]
  },
  {
   "cell_type": "code",
   "execution_count": 27,
   "id": "c9535eb1-3c94-414b-9939-ef245ccd51b6",
   "metadata": {},
   "outputs": [
    {
     "data": {
      "text/plain": [
       "True"
      ]
     },
     "execution_count": 27,
     "metadata": {},
     "output_type": "execute_result"
    }
   ],
   "source": [
    "5!=2"
   ]
  },
  {
   "cell_type": "code",
   "execution_count": 28,
   "id": "1d153090-fda2-4181-b4ff-aa9ffef0d431",
   "metadata": {},
   "outputs": [
    {
     "data": {
      "text/plain": [
       "False"
      ]
     },
     "execution_count": 28,
     "metadata": {},
     "output_type": "execute_result"
    }
   ],
   "source": [
    "10 > 12"
   ]
  },
  {
   "cell_type": "code",
   "execution_count": 29,
   "id": "7473dfb2-90a7-4af2-9d22-0225a94c4d7b",
   "metadata": {},
   "outputs": [
    {
     "data": {
      "text/plain": [
       "True"
      ]
     },
     "execution_count": 29,
     "metadata": {},
     "output_type": "execute_result"
    }
   ],
   "source": [
    "10 >= 2\n"
   ]
  },
  {
   "cell_type": "code",
   "execution_count": 30,
   "id": "1883ef01-0698-4206-a9e3-9ccda5483c68",
   "metadata": {},
   "outputs": [
    {
     "data": {
      "text/plain": [
       "False"
      ]
     },
     "execution_count": 30,
     "metadata": {},
     "output_type": "execute_result"
    }
   ],
   "source": [
    "10 <= 2"
   ]
  },
  {
   "cell_type": "code",
   "execution_count": 31,
   "id": "affbf44a-c4ba-43ad-925e-169061e2c068",
   "metadata": {},
   "outputs": [
    {
     "data": {
      "text/plain": [
       "False"
      ]
     },
     "execution_count": 31,
     "metadata": {},
     "output_type": "execute_result"
    }
   ],
   "source": [
    "12 <=5"
   ]
  },
  {
   "cell_type": "code",
   "execution_count": 32,
   "id": "c73fd693-821b-4f4f-a143-a689cec5900c",
   "metadata": {},
   "outputs": [
    {
     "data": {
      "text/plain": [
       "True"
      ]
     },
     "execution_count": 32,
     "metadata": {},
     "output_type": "execute_result"
    }
   ],
   "source": [
    "12>=12"
   ]
  },
  {
   "cell_type": "code",
   "execution_count": 35,
   "id": "4c6d080a-0079-4788-a4aa-d1272740424b",
   "metadata": {},
   "outputs": [
    {
     "data": {
      "text/plain": [
       "True"
      ]
     },
     "execution_count": 35,
     "metadata": {},
     "output_type": "execute_result"
    }
   ],
   "source": [
    "#logical operator\n",
    "#1 and\n",
    "#2 or\n",
    "True and True"
   ]
  },
  {
   "cell_type": "code",
   "execution_count": 36,
   "id": "170f0a8b-f9cd-48ee-8a99-3dfd718c3e27",
   "metadata": {},
   "outputs": [
    {
     "data": {
      "text/plain": [
       "False"
      ]
     },
     "execution_count": 36,
     "metadata": {},
     "output_type": "execute_result"
    }
   ],
   "source": [
    "False and False"
   ]
  },
  {
   "cell_type": "code",
   "execution_count": 37,
   "id": "b0e60a06-1341-4c5f-8497-b7fe97095fd3",
   "metadata": {},
   "outputs": [
    {
     "data": {
      "text/plain": [
       "False"
      ]
     },
     "execution_count": 37,
     "metadata": {},
     "output_type": "execute_result"
    }
   ],
   "source": [
    "True and False"
   ]
  },
  {
   "cell_type": "code",
   "execution_count": 38,
   "id": "93279400-b444-41c2-b418-2bf42a37e427",
   "metadata": {},
   "outputs": [
    {
     "data": {
      "text/plain": [
       "False"
      ]
     },
     "execution_count": 38,
     "metadata": {},
     "output_type": "execute_result"
    }
   ],
   "source": [
    "False and True"
   ]
  },
  {
   "cell_type": "code",
   "execution_count": 39,
   "id": "68e99095-85e6-4584-a7e0-6f39d3112baf",
   "metadata": {},
   "outputs": [
    {
     "data": {
      "text/plain": [
       "True"
      ]
     },
     "execution_count": 39,
     "metadata": {},
     "output_type": "execute_result"
    }
   ],
   "source": [
    "True or False"
   ]
  },
  {
   "cell_type": "code",
   "execution_count": 40,
   "id": "b5c6f0e0-afb0-451a-a24e-d16c074fb327",
   "metadata": {},
   "outputs": [
    {
     "data": {
      "text/plain": [
       "False"
      ]
     },
     "execution_count": 40,
     "metadata": {},
     "output_type": "execute_result"
    }
   ],
   "source": [
    "False or False"
   ]
  },
  {
   "cell_type": "code",
   "execution_count": 41,
   "id": "e5f5703d-89df-46ba-b892-abbc2c1e65cf",
   "metadata": {},
   "outputs": [
    {
     "data": {
      "text/plain": [
       "True"
      ]
     },
     "execution_count": 41,
     "metadata": {},
     "output_type": "execute_result"
    }
   ],
   "source": [
    "True or True"
   ]
  },
  {
   "cell_type": "code",
   "execution_count": 42,
   "id": "d3907bbf-ab0f-4fe2-ad74-84b672a49b19",
   "metadata": {},
   "outputs": [
    {
     "data": {
      "text/plain": [
       "True"
      ]
     },
     "execution_count": 42,
     "metadata": {},
     "output_type": "execute_result"
    }
   ],
   "source": [
    "False or True"
   ]
  },
  {
   "cell_type": "raw",
   "id": "3484e553-284e-4ea3-95d1-f43ec0c83cbf",
   "metadata": {},
   "source": [
    "#and is the substite of or operators both work similar in the difference manner"
   ]
  },
  {
   "cell_type": "raw",
   "id": "626df46c-d57f-4e61-9642-c4db1092d773",
   "metadata": {},
   "source": [
    "#and operators works like if you are perfect then you are eligible to tell someone to be perfect"
   ]
  },
  {
   "cell_type": "raw",
   "id": "dd8ee850-b739-4efb-8cbd-4fb61ab1b0c5",
   "metadata": {},
   "source": [
    "#or operators work like if you're doing good then you don't care about others what they can do"
   ]
  },
  {
   "cell_type": "code",
   "execution_count": 44,
   "id": "1c85d270-9072-4d22-8529-df1e6193e743",
   "metadata": {},
   "outputs": [
    {
     "data": {
      "text/plain": [
       "False"
      ]
     },
     "execution_count": 44,
     "metadata": {},
     "output_type": "execute_result"
    }
   ],
   "source": [
    "#not operator\n",
    "not True"
   ]
  },
  {
   "cell_type": "code",
   "execution_count": 46,
   "id": "b0581d64-a1d2-458f-8171-b78ed48d26bb",
   "metadata": {},
   "outputs": [
    {
     "data": {
      "text/plain": [
       "True"
      ]
     },
     "execution_count": 46,
     "metadata": {},
     "output_type": "execute_result"
    }
   ],
   "source": [
    "not False"
   ]
  },
  {
   "cell_type": "code",
   "execution_count": 47,
   "id": "1932fadf-4ed2-4aef-abd1-4e6ecd1d69f7",
   "metadata": {},
   "outputs": [
    {
     "data": {
      "text/plain": [
       "10"
      ]
     },
     "execution_count": 47,
     "metadata": {},
     "output_type": "execute_result"
    }
   ],
   "source": [
    "#Assignment operator\n",
    "a=10\n",
    "a"
   ]
  },
  {
   "cell_type": "code",
   "execution_count": 52,
   "id": "e3f31f17-3ce9-488a-974e-b1bc8ef6dde7",
   "metadata": {},
   "outputs": [
    {
     "data": {
      "text/plain": [
       "15"
      ]
     },
     "execution_count": 52,
     "metadata": {},
     "output_type": "execute_result"
    }
   ],
   "source": [
    "a+5"
   ]
  },
  {
   "cell_type": "code",
   "execution_count": 53,
   "id": "14f04503-6740-4b72-b03f-07332c435649",
   "metadata": {},
   "outputs": [
    {
     "data": {
      "text/plain": [
       "16"
      ]
     },
     "execution_count": 53,
     "metadata": {},
     "output_type": "execute_result"
    }
   ],
   "source": [
    "b = 10\n",
    "b+6"
   ]
  },
  {
   "cell_type": "code",
   "execution_count": 54,
   "id": "a96a9345-3bcc-4c97-b9c3-4b24e8c535e7",
   "metadata": {},
   "outputs": [],
   "source": [
    "b = 12\n",
    "b = b+6"
   ]
  },
  {
   "cell_type": "code",
   "execution_count": 55,
   "id": "95aa2099-4c0b-42c0-a68a-db9575451e8a",
   "metadata": {},
   "outputs": [
    {
     "data": {
      "text/plain": [
       "18"
      ]
     },
     "execution_count": 55,
     "metadata": {},
     "output_type": "execute_result"
    }
   ],
   "source": [
    "b"
   ]
  },
  {
   "cell_type": "code",
   "execution_count": 59,
   "id": "2adeb24c-eba2-4ffc-b4aa-15998d348c6f",
   "metadata": {},
   "outputs": [
    {
     "data": {
      "text/plain": [
       "17"
      ]
     },
     "execution_count": 59,
     "metadata": {},
     "output_type": "execute_result"
    }
   ],
   "source": [
    "b = 12\n",
    "b+=5\n",
    "b"
   ]
  },
  {
   "cell_type": "code",
   "execution_count": 60,
   "id": "67df2584-ca38-40d4-9255-ffc84e12720f",
   "metadata": {},
   "outputs": [
    {
     "data": {
      "text/plain": [
       "7"
      ]
     },
     "execution_count": 60,
     "metadata": {},
     "output_type": "execute_result"
    }
   ],
   "source": [
    "b-=10\n",
    "b"
   ]
  },
  {
   "cell_type": "code",
   "execution_count": 61,
   "id": "13279e2a-83fd-4627-b81e-116e6f583f15",
   "metadata": {},
   "outputs": [],
   "source": [
    "b*=14"
   ]
  },
  {
   "cell_type": "code",
   "execution_count": 62,
   "id": "b33e8db6-2b09-4cd3-af08-7d4894b0a73b",
   "metadata": {},
   "outputs": [
    {
     "data": {
      "text/plain": [
       "98"
      ]
     },
     "execution_count": 62,
     "metadata": {},
     "output_type": "execute_result"
    }
   ],
   "source": [
    "b"
   ]
  },
  {
   "cell_type": "code",
   "execution_count": 63,
   "id": "ef8aeba7-b080-4cec-8080-0f805ff2cfe8",
   "metadata": {},
   "outputs": [
    {
     "data": {
      "text/plain": [
       "32.666666666666664"
      ]
     },
     "execution_count": 63,
     "metadata": {},
     "output_type": "execute_result"
    }
   ],
   "source": [
    "b/=3\n",
    "b"
   ]
  },
  {
   "cell_type": "code",
   "execution_count": 67,
   "id": "c8957878-8cf7-412c-a2cf-c51a23759bde",
   "metadata": {},
   "outputs": [
    {
     "data": {
      "text/plain": [
       "True"
      ]
     },
     "execution_count": 67,
     "metadata": {},
     "output_type": "execute_result"
    }
   ],
   "source": [
    "#membership operator\n",
    "a = 'pwskills'\n",
    "'p' in a"
   ]
  },
  {
   "cell_type": "code",
   "execution_count": 69,
   "id": "96e881f0-9816-455c-832b-438d22a5a196",
   "metadata": {},
   "outputs": [
    {
     "data": {
      "text/plain": [
       "False"
      ]
     },
     "execution_count": 69,
     "metadata": {},
     "output_type": "execute_result"
    }
   ],
   "source": [
    "'p' not in a "
   ]
  },
  {
   "cell_type": "code",
   "execution_count": 70,
   "id": "819fd904-96cb-4f45-b823-eb64a53ba2cd",
   "metadata": {},
   "outputs": [
    {
     "data": {
      "text/plain": [
       "True"
      ]
     },
     "execution_count": 70,
     "metadata": {},
     "output_type": "execute_result"
    }
   ],
   "source": [
    "b = 'manish'\n",
    "'ma' in b"
   ]
  },
  {
   "cell_type": "code",
   "execution_count": 71,
   "id": "0c3e8531-9ba0-47ac-81c6-e288980af153",
   "metadata": {},
   "outputs": [
    {
     "data": {
      "text/plain": [
       "False"
      ]
     },
     "execution_count": 71,
     "metadata": {},
     "output_type": "execute_result"
    }
   ],
   "source": [
    "'am' in b"
   ]
  },
  {
   "cell_type": "code",
   "execution_count": 73,
   "id": "c742a3c2-e090-4aad-915b-a09a25768b11",
   "metadata": {},
   "outputs": [
    {
     "data": {
      "text/plain": [
       "True"
      ]
     },
     "execution_count": 73,
     "metadata": {},
     "output_type": "execute_result"
    }
   ],
   "source": [
    "'ish' in b"
   ]
  },
  {
   "cell_type": "code",
   "execution_count": 74,
   "id": "d376fe90-6ef3-49e5-82d9-bd1ab34e3a0e",
   "metadata": {},
   "outputs": [
    {
     "data": {
      "text/plain": [
       "str"
      ]
     },
     "execution_count": 74,
     "metadata": {},
     "output_type": "execute_result"
    }
   ],
   "source": [
    "type(b)"
   ]
  },
  {
   "cell_type": "code",
   "execution_count": 75,
   "id": "afd5ff8f-9db8-4aeb-a55c-a70dd36b9435",
   "metadata": {},
   "outputs": [],
   "source": [
    "a= ['data', 'analytics', 'science']"
   ]
  },
  {
   "cell_type": "code",
   "execution_count": 76,
   "id": "80be8dcb-1ab7-4bcb-8eac-463fb0bc943d",
   "metadata": {},
   "outputs": [
    {
     "data": {
      "text/plain": [
       "True"
      ]
     },
     "execution_count": 76,
     "metadata": {},
     "output_type": "execute_result"
    }
   ],
   "source": [
    "'data' in a"
   ]
  },
  {
   "cell_type": "code",
   "execution_count": 77,
   "id": "17d5fed4-833d-44a0-813f-804efa4c114a",
   "metadata": {},
   "outputs": [
    {
     "data": {
      "text/plain": [
       "False"
      ]
     },
     "execution_count": 77,
     "metadata": {},
     "output_type": "execute_result"
    }
   ],
   "source": [
    "'ajay' in a "
   ]
  },
  {
   "cell_type": "raw",
   "id": "f779ab2b-15a5-4c63-a32e-27023143adf6",
   "metadata": {},
   "source": [
    "#indentity operators>> it compare the location of two objects in memory or variable"
   ]
  },
  {
   "cell_type": "code",
   "execution_count": 78,
   "id": "58ce630e-9f2d-4dc2-9ce3-05237bddf7b0",
   "metadata": {},
   "outputs": [
    {
     "data": {
      "text/plain": [
       "False"
      ]
     },
     "execution_count": 78,
     "metadata": {},
     "output_type": "execute_result"
    }
   ],
   "source": [
    "a = 2\n",
    "b = 3\n",
    "a is b"
   ]
  },
  {
   "cell_type": "code",
   "execution_count": 79,
   "id": "d594afc0-119c-437f-a3f0-d1af509df645",
   "metadata": {},
   "outputs": [
    {
     "data": {
      "text/plain": [
       "False"
      ]
     },
     "execution_count": 79,
     "metadata": {},
     "output_type": "execute_result"
    }
   ],
   "source": [
    "a > b"
   ]
  },
  {
   "cell_type": "code",
   "execution_count": 81,
   "id": "a2035200-056e-40c9-9b18-ff4755da870f",
   "metadata": {},
   "outputs": [
    {
     "data": {
      "text/plain": [
       "True"
      ]
     },
     "execution_count": 81,
     "metadata": {},
     "output_type": "execute_result"
    }
   ],
   "source": [
    "b >= a"
   ]
  },
  {
   "cell_type": "code",
   "execution_count": 82,
   "id": "f47726d8-2ccd-4f1f-a3bb-c76107aa103e",
   "metadata": {},
   "outputs": [],
   "source": [
    "a =2\n",
    "b = a"
   ]
  },
  {
   "cell_type": "code",
   "execution_count": 83,
   "id": "2013dbfd-7a1c-4583-a44a-20726ff326c9",
   "metadata": {},
   "outputs": [
    {
     "data": {
      "text/plain": [
       "2"
      ]
     },
     "execution_count": 83,
     "metadata": {},
     "output_type": "execute_result"
    }
   ],
   "source": [
    "a"
   ]
  },
  {
   "cell_type": "code",
   "execution_count": 84,
   "id": "eec366ee-cab4-402a-a3ca-0f5050897394",
   "metadata": {},
   "outputs": [
    {
     "data": {
      "text/plain": [
       "2"
      ]
     },
     "execution_count": 84,
     "metadata": {},
     "output_type": "execute_result"
    }
   ],
   "source": [
    "b"
   ]
  },
  {
   "cell_type": "code",
   "execution_count": 85,
   "id": "052e0ea4-08b6-4901-808a-39240df327d6",
   "metadata": {},
   "outputs": [
    {
     "data": {
      "text/plain": [
       "True"
      ]
     },
     "execution_count": 85,
     "metadata": {},
     "output_type": "execute_result"
    }
   ],
   "source": [
    " a is b"
   ]
  },
  {
   "cell_type": "code",
   "execution_count": 86,
   "id": "829ff05a-a165-4893-a78e-cdda0a3c6d93",
   "metadata": {},
   "outputs": [
    {
     "data": {
      "text/plain": [
       "False"
      ]
     },
     "execution_count": 86,
     "metadata": {},
     "output_type": "execute_result"
    }
   ],
   "source": [
    "b is not a"
   ]
  },
  {
   "cell_type": "raw",
   "id": "35d4f3f5-aa2f-450a-b748-477fca72e3bd",
   "metadata": {},
   "source": [
    "#bitwise operator>> operations at bit level, manupulatiing individuals bits within integers"
   ]
  },
  {
   "cell_type": "code",
   "execution_count": 88,
   "id": "2e753cf8-ba3d-4347-bcab-d8664e0cd7b0",
   "metadata": {},
   "outputs": [
    {
     "data": {
      "text/plain": [
       "10"
      ]
     },
     "execution_count": 88,
     "metadata": {},
     "output_type": "execute_result"
    }
   ],
   "source": [
    "10 & 10"
   ]
  },
  {
   "cell_type": "code",
   "execution_count": 89,
   "id": "247d1580-b878-46d2-aa1e-c45858ffcf6e",
   "metadata": {},
   "outputs": [
    {
     "data": {
      "text/plain": [
       "0"
      ]
     },
     "execution_count": 89,
     "metadata": {},
     "output_type": "execute_result"
    }
   ],
   "source": [
    "10 ^ 10"
   ]
  },
  {
   "cell_type": "code",
   "execution_count": 92,
   "id": "e8588095-1085-4c41-8372-42ecd51d863f",
   "metadata": {},
   "outputs": [
    {
     "data": {
      "text/plain": [
       "2"
      ]
     },
     "execution_count": 92,
     "metadata": {},
     "output_type": "execute_result"
    }
   ],
   "source": [
    "10 & 2"
   ]
  },
  {
   "cell_type": "code",
   "execution_count": 93,
   "id": "25422cb4-acaa-41cf-8cb8-67c60bcdb5b0",
   "metadata": {},
   "outputs": [
    {
     "data": {
      "text/plain": [
       "2"
      ]
     },
     "execution_count": 93,
     "metadata": {},
     "output_type": "execute_result"
    }
   ],
   "source": [
    "2 & 10"
   ]
  },
  {
   "cell_type": "code",
   "execution_count": 94,
   "id": "d5929a4c-e981-4f06-81ed-13a7cd9a27d1",
   "metadata": {},
   "outputs": [
    {
     "data": {
      "text/plain": [
       "'0b1010'"
      ]
     },
     "execution_count": 94,
     "metadata": {},
     "output_type": "execute_result"
    }
   ],
   "source": [
    "bin (10)"
   ]
  },
  {
   "cell_type": "code",
   "execution_count": 96,
   "id": "f7d2ab3d-e6cb-49be-b2bf-9172e7d44978",
   "metadata": {},
   "outputs": [
    {
     "data": {
      "text/plain": [
       "'0b10'"
      ]
     },
     "execution_count": 96,
     "metadata": {},
     "output_type": "execute_result"
    }
   ],
   "source": [
    "bin(2)"
   ]
  },
  {
   "cell_type": "code",
   "execution_count": 97,
   "id": "fe680026-735a-44f0-800e-b72b6d70e2d0",
   "metadata": {},
   "outputs": [
    {
     "data": {
      "text/plain": [
       "2"
      ]
     },
     "execution_count": 97,
     "metadata": {},
     "output_type": "execute_result"
    }
   ],
   "source": [
    "18 & 3"
   ]
  },
  {
   "cell_type": "code",
   "execution_count": 98,
   "id": "1510c62d-37fc-4c9b-b311-c0777202189a",
   "metadata": {},
   "outputs": [
    {
     "data": {
      "text/plain": [
       "'0b10010'"
      ]
     },
     "execution_count": 98,
     "metadata": {},
     "output_type": "execute_result"
    }
   ],
   "source": [
    "bin(18)"
   ]
  },
  {
   "cell_type": "code",
   "execution_count": 99,
   "id": "80e813d4-c61d-4349-a3ad-bf12728423ee",
   "metadata": {},
   "outputs": [
    {
     "data": {
      "text/plain": [
       "'0b11'"
      ]
     },
     "execution_count": 99,
     "metadata": {},
     "output_type": "execute_result"
    }
   ],
   "source": [
    "bin(3)"
   ]
  },
  {
   "cell_type": "code",
   "execution_count": 100,
   "id": "2df2190a-9d61-432c-8ed4-1a9f4f9a66e3",
   "metadata": {},
   "outputs": [
    {
     "data": {
      "text/plain": [
       "7"
      ]
     },
     "execution_count": 100,
     "metadata": {},
     "output_type": "execute_result"
    }
   ],
   "source": [
    "3 | 5"
   ]
  },
  {
   "cell_type": "code",
   "execution_count": 101,
   "id": "1a3eab1d-c506-4756-9885-b45b8da06095",
   "metadata": {},
   "outputs": [
    {
     "data": {
      "text/plain": [
       "'0b101'"
      ]
     },
     "execution_count": 101,
     "metadata": {},
     "output_type": "execute_result"
    }
   ],
   "source": [
    "bin(5)"
   ]
  },
  {
   "cell_type": "code",
   "execution_count": 102,
   "id": "7e486ea6-7ca4-4606-b08b-4a8f8f79dc89",
   "metadata": {},
   "outputs": [
    {
     "data": {
      "text/plain": [
       "'0b111'"
      ]
     },
     "execution_count": 102,
     "metadata": {},
     "output_type": "execute_result"
    }
   ],
   "source": [
    "bin(7)"
   ]
  },
  {
   "cell_type": "code",
   "execution_count": 103,
   "id": "be8652fb-387e-4e77-8c81-f9d0f5383481",
   "metadata": {},
   "outputs": [
    {
     "data": {
      "text/plain": [
       "'0b11'"
      ]
     },
     "execution_count": 103,
     "metadata": {},
     "output_type": "execute_result"
    }
   ],
   "source": [
    "bin(3)"
   ]
  },
  {
   "cell_type": "code",
   "execution_count": 104,
   "id": "d3d87c3a-176a-4fca-acd5-8ec0bfec67f9",
   "metadata": {},
   "outputs": [
    {
     "data": {
      "text/plain": [
       "7"
      ]
     },
     "execution_count": 104,
     "metadata": {},
     "output_type": "execute_result"
    }
   ],
   "source": [
    "6 | 5"
   ]
  },
  {
   "cell_type": "code",
   "execution_count": 105,
   "id": "576aec89-ab80-4f13-b4f4-5c96847321af",
   "metadata": {},
   "outputs": [
    {
     "data": {
      "text/plain": [
       "15"
      ]
     },
     "execution_count": 105,
     "metadata": {},
     "output_type": "execute_result"
    }
   ],
   "source": [
    "5|11"
   ]
  },
  {
   "cell_type": "code",
   "execution_count": 106,
   "id": "0dddfcf3-024a-47db-a0bc-f1076e0b65e2",
   "metadata": {},
   "outputs": [
    {
     "data": {
      "text/plain": [
       "-4"
      ]
     },
     "execution_count": 106,
     "metadata": {},
     "output_type": "execute_result"
    }
   ],
   "source": [
    "#negation ~tilda\n",
    "~3"
   ]
  },
  {
   "cell_type": "code",
   "execution_count": 107,
   "id": "ee14a8d7-33ce-49c8-a0f6-66adee4aac11",
   "metadata": {},
   "outputs": [
    {
     "data": {
      "text/plain": [
       "-101"
      ]
     },
     "execution_count": 107,
     "metadata": {},
     "output_type": "execute_result"
    }
   ],
   "source": [
    "~100"
   ]
  },
  {
   "cell_type": "code",
   "execution_count": 108,
   "id": "8444d026-45f1-4e31-ad2e-cf4bdb3c1499",
   "metadata": {},
   "outputs": [
    {
     "data": {
      "text/plain": [
       "-2"
      ]
     },
     "execution_count": 108,
     "metadata": {},
     "output_type": "execute_result"
    }
   ],
   "source": [
    "~3 | ~5"
   ]
  },
  {
   "cell_type": "code",
   "execution_count": 109,
   "id": "77e45dfb-328c-4ba8-b844-7a10252c44a2",
   "metadata": {},
   "outputs": [
    {
     "data": {
      "text/plain": [
       "6"
      ]
     },
     "execution_count": 109,
     "metadata": {},
     "output_type": "execute_result"
    }
   ],
   "source": [
    "#bitwise xor operator>> ^cap symbol\n",
    "5 ^ 3"
   ]
  },
  {
   "cell_type": "code",
   "execution_count": 110,
   "id": "08af4004-ff50-42c4-8e8d-e774bfe60342",
   "metadata": {},
   "outputs": [],
   "source": [
    "#xor>> returns 1 when exactly one operand 1"
   ]
  },
  {
   "cell_type": "code",
   "execution_count": 113,
   "id": "50831cf4-f3a0-4d9b-8c69-8982fa50af1a",
   "metadata": {},
   "outputs": [],
   "source": [
    "#shift operator>> left shift and right shift\n",
    "\n",
    "#shifts>> shifts the bits by left or right"
   ]
  },
  {
   "cell_type": "code",
   "execution_count": 114,
   "id": "cef7f478-9803-46f4-9f27-354103558fcf",
   "metadata": {},
   "outputs": [
    {
     "data": {
      "text/plain": [
       "280"
      ]
     },
     "execution_count": 114,
     "metadata": {},
     "output_type": "execute_result"
    }
   ],
   "source": [
    "#left shift -- << shifts the bits to the left by a specified no position,\n",
    "#filling 0's of the right\n",
    "35 << 3"
   ]
  },
  {
   "cell_type": "code",
   "execution_count": 115,
   "id": "d4f52bd3-876c-4b31-b99b-f339e989e723",
   "metadata": {},
   "outputs": [
    {
     "data": {
      "text/plain": [
       "'0b100011'"
      ]
     },
     "execution_count": 115,
     "metadata": {},
     "output_type": "execute_result"
    }
   ],
   "source": [
    "bin(35)"
   ]
  },
  {
   "cell_type": "code",
   "execution_count": 116,
   "id": "3a12d2d1-b6ba-4058-8991-fcc66807aaab",
   "metadata": {},
   "outputs": [
    {
     "data": {
      "text/plain": [
       "'0b100011000'"
      ]
     },
     "execution_count": 116,
     "metadata": {},
     "output_type": "execute_result"
    }
   ],
   "source": [
    "bin(280)"
   ]
  },
  {
   "cell_type": "code",
   "execution_count": 119,
   "id": "4929c67e-1c34-45ba-9b51-1250d2a3b7a8",
   "metadata": {},
   "outputs": [
    {
     "data": {
      "text/plain": [
       "10"
      ]
     },
     "execution_count": 119,
     "metadata": {},
     "output_type": "execute_result"
    }
   ],
   "source": [
    "5<<1 #left shift by 1"
   ]
  },
  {
   "cell_type": "code",
   "execution_count": 120,
   "id": "5e66bc14-46a4-48ac-ac69-b5d06c416a56",
   "metadata": {},
   "outputs": [
    {
     "data": {
      "text/plain": [
       "'0b1010'"
      ]
     },
     "execution_count": 120,
     "metadata": {},
     "output_type": "execute_result"
    }
   ],
   "source": [
    "bin(10)"
   ]
  },
  {
   "cell_type": "code",
   "execution_count": 122,
   "id": "b017b16b-ea7d-4af2-b0b6-92789541a90e",
   "metadata": {},
   "outputs": [
    {
     "data": {
      "text/plain": [
       "35"
      ]
     },
     "execution_count": 122,
     "metadata": {},
     "output_type": "execute_result"
    }
   ],
   "source": [
    "#right shift operator>> remove the no of elements in the binary\n",
    "\n",
    "280>>3"
   ]
  },
  {
   "cell_type": "code",
   "execution_count": 123,
   "id": "8bd72b96-e098-44b4-8d39-9387389cf616",
   "metadata": {},
   "outputs": [],
   "source": [
    "#order of precedence\n",
    "#execution of python statement will be from left to right"
   ]
  },
  {
   "cell_type": "code",
   "execution_count": 124,
   "id": "51911312-4236-46d4-a3e6-2b5b52b93c5a",
   "metadata": {},
   "outputs": [
    {
     "data": {
      "text/plain": [
       "-3"
      ]
     },
     "execution_count": 124,
     "metadata": {},
     "output_type": "execute_result"
    }
   ],
   "source": [
    "2+3-8"
   ]
  },
  {
   "cell_type": "code",
   "execution_count": 125,
   "id": "051a6c80-9d36-4aaf-b85f-afafe66b68c9",
   "metadata": {},
   "outputs": [
    {
     "data": {
      "text/plain": [
       "4"
      ]
     },
     "execution_count": 125,
     "metadata": {},
     "output_type": "execute_result"
    }
   ],
   "source": [
    "#always parenthesis\n",
    "(5+3)-4"
   ]
  },
  {
   "cell_type": "code",
   "execution_count": 126,
   "id": "242d8215-9c72-4787-b2fb-add84662100d",
   "metadata": {},
   "outputs": [
    {
     "data": {
      "text/plain": [
       "-4"
      ]
     },
     "execution_count": 126,
     "metadata": {},
     "output_type": "execute_result"
    }
   ],
   "source": [
    "4-(5+3)"
   ]
  },
  {
   "cell_type": "code",
   "execution_count": 128,
   "id": "34468577-1ee3-4444-bf65-d585e38a7988",
   "metadata": {},
   "outputs": [],
   "source": [
    "a= (10+5)+(8/2)"
   ]
  },
  {
   "cell_type": "code",
   "execution_count": 129,
   "id": "d6881ad1-8529-49ef-8b82-454672134ae6",
   "metadata": {},
   "outputs": [
    {
     "data": {
      "text/plain": [
       "19.0"
      ]
     },
     "execution_count": 129,
     "metadata": {},
     "output_type": "execute_result"
    }
   ],
   "source": [
    "a"
   ]
  },
  {
   "cell_type": "code",
   "execution_count": 130,
   "id": "f0318e98-2142-493d-ae54-0c3c50f374cd",
   "metadata": {},
   "outputs": [
    {
     "data": {
      "text/plain": [
       "float"
      ]
     },
     "execution_count": 130,
     "metadata": {},
     "output_type": "execute_result"
    }
   ],
   "source": [
    "type(a)"
   ]
  },
  {
   "cell_type": "code",
   "execution_count": null,
   "id": "b708ed7d-197d-4c87-a209-36941195bfd9",
   "metadata": {},
   "outputs": [],
   "source": []
  }
 ],
 "metadata": {
  "kernelspec": {
   "display_name": "Python 3 (ipykernel)",
   "language": "python",
   "name": "python3"
  },
  "language_info": {
   "codemirror_mode": {
    "name": "ipython",
    "version": 3
   },
   "file_extension": ".py",
   "mimetype": "text/x-python",
   "name": "python",
   "nbconvert_exporter": "python",
   "pygments_lexer": "ipython3",
   "version": "3.10.8"
  }
 },
 "nbformat": 4,
 "nbformat_minor": 5
}
