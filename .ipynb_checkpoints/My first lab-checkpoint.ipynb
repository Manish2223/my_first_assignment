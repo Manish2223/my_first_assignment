{
 "cells": [
  {
   "cell_type": "code",
   "execution_count": 1,
   "id": "b853140f-d1ca-45bb-8e52-86bd9bc55762",
   "metadata": {},
   "outputs": [
    {
     "name": "stdout",
     "output_type": "stream",
     "text": [
      "hellow world\n"
     ]
    }
   ],
   "source": [
    "print(\"hellow world\")"
   ]
  },
  {
   "cell_type": "code",
   "execution_count": 3,
   "id": "79ad61fe-e3e7-4dc3-9866-0ebda0b193be",
   "metadata": {},
   "outputs": [
    {
     "name": "stdout",
     "output_type": "stream",
     "text": [
      "hello world!!\n"
     ]
    }
   ],
   "source": [
    "print(\"hello world!!\")"
   ]
  },
  {
   "cell_type": "code",
   "execution_count": 6,
   "id": "7247e972-b65f-499b-9649-dc1f1cb40053",
   "metadata": {},
   "outputs": [],
   "source": [
    "a = 3"
   ]
  },
  {
   "cell_type": "code",
   "execution_count": 7,
   "id": "be402939-d8eb-4237-8b92-095384c38f5b",
   "metadata": {},
   "outputs": [
    {
     "data": {
      "text/plain": [
       "3"
      ]
     },
     "execution_count": 7,
     "metadata": {},
     "output_type": "execute_result"
    }
   ],
   "source": [
    "a"
   ]
  },
  {
   "cell_type": "code",
   "execution_count": 8,
   "id": "def65185-d709-41be-ad45-baee1da3d914",
   "metadata": {},
   "outputs": [
    {
     "data": {
      "text/plain": [
       "int"
      ]
     },
     "execution_count": 8,
     "metadata": {},
     "output_type": "execute_result"
    }
   ],
   "source": [
    "type(a)"
   ]
  },
  {
   "cell_type": "raw",
   "id": "ba8b6c67-e870-4303-aec7-4526a27758de",
   "metadata": {},
   "source": [
    "written word is the string "
   ]
  },
  {
   "cell_type": "raw",
   "id": "c7b4581e-a944-40b4-85be-7bdaa09ded2e",
   "metadata": {},
   "source": [
    "number are the integers and float"
   ]
  },
  {
   "cell_type": "raw",
   "id": "7d73326c-a94b-48d7-879b-a06f28c4c590",
   "metadata": {},
   "source": [
    "true/false = boolean"
   ]
  },
  {
   "cell_type": "code",
   "execution_count": 9,
   "id": "365c84f5-fbc8-4389-b6c6-0e35b36c55a5",
   "metadata": {},
   "outputs": [],
   "source": [
    "b = 3"
   ]
  },
  {
   "cell_type": "code",
   "execution_count": 10,
   "id": "a50a604f-fa2e-4b31-97f0-334b4c510475",
   "metadata": {},
   "outputs": [
    {
     "data": {
      "text/plain": [
       "3"
      ]
     },
     "execution_count": 10,
     "metadata": {},
     "output_type": "execute_result"
    }
   ],
   "source": [
    "b"
   ]
  },
  {
   "cell_type": "raw",
   "id": "17117976-0aa2-4c71-8c23-3996022dbc4f",
   "metadata": {},
   "source": [
    "variable is the reserved memory space to store the value"
   ]
  }
 ],
 "metadata": {
  "kernelspec": {
   "display_name": "Python 3 (ipykernel)",
   "language": "python",
   "name": "python3"
  },
  "language_info": {
   "codemirror_mode": {
    "name": "ipython",
    "version": 3
   },
   "file_extension": ".py",
   "mimetype": "text/x-python",
   "name": "python",
   "nbconvert_exporter": "python",
   "pygments_lexer": "ipython3",
   "version": "3.10.8"
  }
 },
 "nbformat": 4,
 "nbformat_minor": 5
}
