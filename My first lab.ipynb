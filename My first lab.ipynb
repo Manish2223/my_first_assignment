{
 "cells": [
  {
   "cell_type": "code",
   "execution_count": 1,
   "id": "b853140f-d1ca-45bb-8e52-86bd9bc55762",
   "metadata": {},
   "outputs": [
    {
     "name": "stdout",
     "output_type": "stream",
     "text": [
      "hellow world\n"
     ]
    }
   ],
   "source": [
    "print(\"hellow world\")"
   ]
  },
  {
   "cell_type": "code",
   "execution_count": 3,
   "id": "79ad61fe-e3e7-4dc3-9866-0ebda0b193be",
   "metadata": {},
   "outputs": [
    {
     "name": "stdout",
     "output_type": "stream",
     "text": [
      "hello world!!\n"
     ]
    }
   ],
   "source": [
    "print(\"hello world!!\")"
   ]
  },
  {
   "cell_type": "code",
   "execution_count": 6,
   "id": "7247e972-b65f-499b-9649-dc1f1cb40053",
   "metadata": {},
   "outputs": [],
   "source": [
    "a = 3"
   ]
  },
  {
   "cell_type": "code",
   "execution_count": 7,
   "id": "be402939-d8eb-4237-8b92-095384c38f5b",
   "metadata": {},
   "outputs": [
    {
     "data": {
      "text/plain": [
       "3"
      ]
     },
     "execution_count": 7,
     "metadata": {},
     "output_type": "execute_result"
    }
   ],
   "source": [
    "a"
   ]
  },
  {
   "cell_type": "code",
   "execution_count": 8,
   "id": "def65185-d709-41be-ad45-baee1da3d914",
   "metadata": {},
   "outputs": [
    {
     "data": {
      "text/plain": [
       "int"
      ]
     },
     "execution_count": 8,
     "metadata": {},
     "output_type": "execute_result"
    }
   ],
   "source": [
    "type(a)"
   ]
  },
  {
   "cell_type": "raw",
   "id": "ba8b6c67-e870-4303-aec7-4526a27758de",
   "metadata": {},
   "source": [
    "written word is the string "
   ]
  },
  {
   "cell_type": "raw",
   "id": "c7b4581e-a944-40b4-85be-7bdaa09ded2e",
   "metadata": {},
   "source": [
    "number are the integers and float"
   ]
  },
  {
   "cell_type": "raw",
   "id": "7d73326c-a94b-48d7-879b-a06f28c4c590",
   "metadata": {},
   "source": [
    "true/false = boolean"
   ]
  },
  {
   "cell_type": "code",
   "execution_count": 9,
   "id": "365c84f5-fbc8-4389-b6c6-0e35b36c55a5",
   "metadata": {},
   "outputs": [],
   "source": [
    "b = 3"
   ]
  },
  {
   "cell_type": "code",
   "execution_count": 10,
   "id": "a50a604f-fa2e-4b31-97f0-334b4c510475",
   "metadata": {},
   "outputs": [
    {
     "data": {
      "text/plain": [
       "3"
      ]
     },
     "execution_count": 10,
     "metadata": {},
     "output_type": "execute_result"
    }
   ],
   "source": [
    "b"
   ]
  },
  {
   "cell_type": "raw",
   "id": "17117976-0aa2-4c71-8c23-3996022dbc4f",
   "metadata": {},
   "source": [
    "variable is the reserved memory space to store the value"
   ]
  },
  {
   "cell_type": "code",
   "execution_count": 11,
   "id": "f91c392f-e87a-4cd8-b58e-ce04b31fcac8",
   "metadata": {},
   "outputs": [],
   "source": [
    "b = 4.5"
   ]
  },
  {
   "cell_type": "code",
   "execution_count": 12,
   "id": "b3d99f43-28b2-408b-841e-86cb3c4b4b87",
   "metadata": {},
   "outputs": [
    {
     "data": {
      "text/plain": [
       "4.5"
      ]
     },
     "execution_count": 12,
     "metadata": {},
     "output_type": "execute_result"
    }
   ],
   "source": [
    "b"
   ]
  },
  {
   "cell_type": "code",
   "execution_count": 13,
   "id": "daf4bf14-7ad3-4ea2-b2c9-e81829b5a50d",
   "metadata": {},
   "outputs": [
    {
     "data": {
      "text/plain": [
       "float"
      ]
     },
     "execution_count": 13,
     "metadata": {},
     "output_type": "execute_result"
    }
   ],
   "source": [
    "type(b)"
   ]
  },
  {
   "cell_type": "code",
   "execution_count": 14,
   "id": "40532ed5-5872-4e38-89b8-9353215bdae3",
   "metadata": {},
   "outputs": [],
   "source": [
    "c= \"manish\""
   ]
  },
  {
   "cell_type": "code",
   "execution_count": 16,
   "id": "ee2e2cde-4a39-40df-acc4-5f0e4bf8aa3d",
   "metadata": {},
   "outputs": [
    {
     "data": {
      "text/plain": [
       "'manish'"
      ]
     },
     "execution_count": 16,
     "metadata": {},
     "output_type": "execute_result"
    }
   ],
   "source": [
    "c"
   ]
  },
  {
   "cell_type": "code",
   "execution_count": 17,
   "id": "41bdc16a-97c6-4e0f-a5c9-25074d85b7bb",
   "metadata": {},
   "outputs": [
    {
     "data": {
      "text/plain": [
       "str"
      ]
     },
     "execution_count": 17,
     "metadata": {},
     "output_type": "execute_result"
    }
   ],
   "source": [
    "type(c)"
   ]
  },
  {
   "cell_type": "code",
   "execution_count": 18,
   "id": "6bde1b09-b767-4964-9307-7c691f566153",
   "metadata": {},
   "outputs": [
    {
     "data": {
      "text/plain": [
       "builtin_function_or_method"
      ]
     },
     "execution_count": 18,
     "metadata": {},
     "output_type": "execute_result"
    }
   ],
   "source": [
    "type(print)"
   ]
  },
  {
   "cell_type": "code",
   "execution_count": 20,
   "id": "eec00111-5086-42c3-8d03-7efa61974a61",
   "metadata": {},
   "outputs": [],
   "source": [
    "c = True "
   ]
  },
  {
   "cell_type": "code",
   "execution_count": 21,
   "id": "00d8e1f4-8a73-4a1c-b370-6792ea4b9bff",
   "metadata": {},
   "outputs": [
    {
     "data": {
      "text/plain": [
       "bool"
      ]
     },
     "execution_count": 21,
     "metadata": {},
     "output_type": "execute_result"
    }
   ],
   "source": [
    "type(c)"
   ]
  },
  {
   "cell_type": "code",
   "execution_count": 22,
   "id": "876399ff-3933-4bc0-a12e-08741438a02d",
   "metadata": {},
   "outputs": [],
   "source": [
    "d = False"
   ]
  },
  {
   "cell_type": "code",
   "execution_count": 23,
   "id": "583c03d0-a9f3-437d-908b-b13815b69f4d",
   "metadata": {},
   "outputs": [
    {
     "data": {
      "text/plain": [
       "False"
      ]
     },
     "execution_count": 23,
     "metadata": {},
     "output_type": "execute_result"
    }
   ],
   "source": [
    "d"
   ]
  },
  {
   "cell_type": "code",
   "execution_count": 24,
   "id": "54063465-ac8b-4e7c-91f4-10110247df9a",
   "metadata": {},
   "outputs": [
    {
     "data": {
      "text/plain": [
       "bool"
      ]
     },
     "execution_count": 24,
     "metadata": {},
     "output_type": "execute_result"
    }
   ],
   "source": [
    "type(d)"
   ]
  },
  {
   "cell_type": "code",
   "execution_count": 25,
   "id": "8f22a9a1-86b7-4fa8-ab86-7b511ff5bed6",
   "metadata": {},
   "outputs": [
    {
     "data": {
      "text/plain": [
       "1"
      ]
     },
     "execution_count": 25,
     "metadata": {},
     "output_type": "execute_result"
    }
   ],
   "source": [
    "True-False"
   ]
  },
  {
   "cell_type": "raw",
   "id": "4addf30c-dd5e-4bbb-a383-56a40bcccbc4",
   "metadata": {},
   "source": [
    "True/False >> it is error"
   ]
  },
  {
   "cell_type": "code",
   "execution_count": 27,
   "id": "272478fe-c7db-491e-85ef-c63d365bc5fb",
   "metadata": {},
   "outputs": [],
   "source": [
    "f = None"
   ]
  },
  {
   "cell_type": "code",
   "execution_count": 28,
   "id": "735cd4df-6f87-4401-9f20-716917608bf8",
   "metadata": {},
   "outputs": [],
   "source": [
    "f"
   ]
  },
  {
   "cell_type": "code",
   "execution_count": 29,
   "id": "e13b4248-c752-4f4e-b77a-57d119edc59c",
   "metadata": {},
   "outputs": [
    {
     "data": {
      "text/plain": [
       "NoneType"
      ]
     },
     "execution_count": 29,
     "metadata": {},
     "output_type": "execute_result"
    }
   ],
   "source": [
    "type(f)"
   ]
  },
  {
   "cell_type": "raw",
   "id": "3f5ccdba-ac21-4c57-8605-b51f58bd2461",
   "metadata": {},
   "source": [
    "x+iy >> complex number"
   ]
  },
  {
   "cell_type": "code",
   "execution_count": 30,
   "id": "98685d57-49ee-4930-a0f1-ceae7ce9c8da",
   "metadata": {},
   "outputs": [],
   "source": [
    "com= 5+6j"
   ]
  },
  {
   "cell_type": "code",
   "execution_count": 31,
   "id": "a339b671-f870-45c8-8bf9-a62bda4558a5",
   "metadata": {},
   "outputs": [
    {
     "data": {
      "text/plain": [
       "(5+6j)"
      ]
     },
     "execution_count": 31,
     "metadata": {},
     "output_type": "execute_result"
    }
   ],
   "source": [
    "com"
   ]
  },
  {
   "cell_type": "code",
   "execution_count": 33,
   "id": "8f1233a8-9f83-46b4-8632-61c80ddf25f4",
   "metadata": {},
   "outputs": [
    {
     "data": {
      "text/plain": [
       "complex"
      ]
     },
     "execution_count": 33,
     "metadata": {},
     "output_type": "execute_result"
    }
   ],
   "source": [
    "type(com)"
   ]
  },
  {
   "cell_type": "code",
   "execution_count": 34,
   "id": "2a5b4b97-9ffb-427d-96d2-7e13d09bef9c",
   "metadata": {},
   "outputs": [
    {
     "data": {
      "text/plain": [
       "5.0"
      ]
     },
     "execution_count": 34,
     "metadata": {},
     "output_type": "execute_result"
    }
   ],
   "source": [
    "com.real"
   ]
  },
  {
   "cell_type": "code",
   "execution_count": 36,
   "id": "011e9750-22a6-4e19-b436-64854b53494d",
   "metadata": {},
   "outputs": [
    {
     "data": {
      "text/plain": [
       "6.0"
      ]
     },
     "execution_count": 36,
     "metadata": {},
     "output_type": "execute_result"
    }
   ],
   "source": [
    "com.imag"
   ]
  },
  {
   "cell_type": "code",
   "execution_count": 37,
   "id": "d192ff70-0168-4579-8353-677a47d49206",
   "metadata": {},
   "outputs": [
    {
     "data": {
      "text/plain": [
       "-3.5"
      ]
     },
     "execution_count": 37,
     "metadata": {},
     "output_type": "execute_result"
    }
   ],
   "source": [
    "c-b"
   ]
  },
  {
   "cell_type": "raw",
   "id": "98b49214-0b6f-4efd-baeb-d961461ce0c5",
   "metadata": {},
   "source": [
    "Rules of defining a variable>> a variable start with (alphabet) or underscore character"
   ]
  },
  {
   "cell_type": "code",
   "execution_count": 40,
   "id": "5f2182cf-fa15-4ffd-9be3-fbd6b0e680b4",
   "metadata": {},
   "outputs": [
    {
     "ename": "SyntaxError",
     "evalue": "cannot assign to literal here. Maybe you meant '==' instead of '='? (2414822714.py, line 1)",
     "output_type": "error",
     "traceback": [
      "\u001b[0;36m  Cell \u001b[0;32mIn[40], line 1\u001b[0;36m\u001b[0m\n\u001b[0;31m    5 = a\u001b[0m\n\u001b[0m    ^\u001b[0m\n\u001b[0;31mSyntaxError\u001b[0m\u001b[0;31m:\u001b[0m cannot assign to literal here. Maybe you meant '==' instead of '='?\n"
     ]
    }
   ],
   "source": [
    "5 = a"
   ]
  },
  {
   "cell_type": "code",
   "execution_count": 41,
   "id": "2af352e1-208e-49f5-a2ae-de9ee8becdf8",
   "metadata": {},
   "outputs": [
    {
     "ename": "SyntaxError",
     "evalue": "invalid decimal literal (2231519780.py, line 1)",
     "output_type": "error",
     "traceback": [
      "\u001b[0;36m  Cell \u001b[0;32mIn[41], line 1\u001b[0;36m\u001b[0m\n\u001b[0;31m    1name= Ram\u001b[0m\n\u001b[0m    ^\u001b[0m\n\u001b[0;31mSyntaxError\u001b[0m\u001b[0;31m:\u001b[0m invalid decimal literal\n"
     ]
    }
   ],
   "source": [
    "1name= Ram"
   ]
  },
  {
   "cell_type": "code",
   "execution_count": 42,
   "id": "0ce1ec3b-4c9e-4368-8d3c-734c793a1264",
   "metadata": {},
   "outputs": [],
   "source": [
    "a = \"ram\""
   ]
  },
  {
   "cell_type": "code",
   "execution_count": 43,
   "id": "745054d8-327a-4604-aa7f-f4e1511cb526",
   "metadata": {},
   "outputs": [
    {
     "data": {
      "text/plain": [
       "'ram'"
      ]
     },
     "execution_count": 43,
     "metadata": {},
     "output_type": "execute_result"
    }
   ],
   "source": [
    "a\n"
   ]
  },
  {
   "cell_type": "code",
   "execution_count": 47,
   "id": "46e7f187-4dd4-49f4-b721-8b5b2d0fca35",
   "metadata": {},
   "outputs": [],
   "source": [
    "_name= \"rahul\""
   ]
  },
  {
   "cell_type": "code",
   "execution_count": 48,
   "id": "8fa91600-f982-47b8-a78e-10006131bfe4",
   "metadata": {},
   "outputs": [
    {
     "data": {
      "text/plain": [
       "'rahul'"
      ]
     },
     "execution_count": 48,
     "metadata": {},
     "output_type": "execute_result"
    }
   ],
   "source": [
    "_name"
   ]
  },
  {
   "cell_type": "raw",
   "id": "0413d34d-5982-4615-a258-8baae7b74915",
   "metadata": {},
   "source": [
    "invalid ways"
   ]
  },
  {
   "cell_type": "code",
   "execution_count": 49,
   "id": "8a9b362d-1d30-4149-befa-f46d7c0238f2",
   "metadata": {},
   "outputs": [
    {
     "ename": "SyntaxError",
     "evalue": "cannot assign to expression here. Maybe you meant '==' instead of '='? (4204126839.py, line 1)",
     "output_type": "error",
     "traceback": [
      "\u001b[0;36m  Cell \u001b[0;32mIn[49], line 1\u001b[0;36m\u001b[0m\n\u001b[0;31m    a-bc = \"ram\"\u001b[0m\n\u001b[0m    ^\u001b[0m\n\u001b[0;31mSyntaxError\u001b[0m\u001b[0;31m:\u001b[0m cannot assign to expression here. Maybe you meant '==' instead of '='?\n"
     ]
    }
   ],
   "source": [
    "a-bc = \"ram\""
   ]
  },
  {
   "cell_type": "code",
   "execution_count": 50,
   "id": "194fe597-1f2d-44df-8ae6-014e49ada888",
   "metadata": {},
   "outputs": [
    {
     "ename": "SyntaxError",
     "evalue": "cannot assign to expression here. Maybe you meant '==' instead of '='? (1246005148.py, line 1)",
     "output_type": "error",
     "traceback": [
      "\u001b[0;36m  Cell \u001b[0;32mIn[50], line 1\u001b[0;36m\u001b[0m\n\u001b[0;31m    data-science =\"manis\"\u001b[0m\n\u001b[0m    ^\u001b[0m\n\u001b[0;31mSyntaxError\u001b[0m\u001b[0;31m:\u001b[0m cannot assign to expression here. Maybe you meant '==' instead of '='?\n"
     ]
    }
   ],
   "source": [
    "data-science =\"manis\""
   ]
  },
  {
   "cell_type": "code",
   "execution_count": 51,
   "id": "9093e0a4-78e5-45fa-b301-25b5a73b0b9c",
   "metadata": {},
   "outputs": [],
   "source": [
    "data_science = 'manish'"
   ]
  },
  {
   "cell_type": "code",
   "execution_count": 53,
   "id": "12cd5cca-7849-44b9-90fc-ba08391c01c7",
   "metadata": {},
   "outputs": [
    {
     "data": {
      "text/plain": [
       "'manish'"
      ]
     },
     "execution_count": 53,
     "metadata": {},
     "output_type": "execute_result"
    }
   ],
   "source": [
    "data_science"
   ]
  },
  {
   "cell_type": "code",
   "execution_count": 54,
   "id": "daeed17a-d8a9-442d-83a5-c6eca1ccebf8",
   "metadata": {},
   "outputs": [
    {
     "ename": "SyntaxError",
     "evalue": "invalid syntax. Maybe you meant '==' or ':=' instead of '='? (4042919964.py, line 1)",
     "output_type": "error",
     "traceback": [
      "\u001b[0;36m  Cell \u001b[0;32mIn[54], line 1\u001b[0;36m\u001b[0m\n\u001b[0;31m    @abc= \"Ram\"\u001b[0m\n\u001b[0m     ^\u001b[0m\n\u001b[0;31mSyntaxError\u001b[0m\u001b[0;31m:\u001b[0m invalid syntax. Maybe you meant '==' or ':=' instead of '='?\n"
     ]
    }
   ],
   "source": [
    "@abc= \"Ram\""
   ]
  },
  {
   "cell_type": "code",
   "execution_count": 59,
   "id": "8002eb23-8136-4d8d-b776-727cd5d0040a",
   "metadata": {},
   "outputs": [
    {
     "ename": "SyntaxError",
     "evalue": "cannot assign to expression (1517703378.py, line 2)",
     "output_type": "error",
     "traceback": [
      "\u001b[0;36m  Cell \u001b[0;32mIn[59], line 2\u001b[0;36m\u001b[0m\n\u001b[0;31m    a= 1 + b= 2\u001b[0m\n\u001b[0m       ^\u001b[0m\n\u001b[0;31mSyntaxError\u001b[0m\u001b[0;31m:\u001b[0m cannot assign to expression\n"
     ]
    }
   ],
   "source": [
    "print(\"enter the number\")\n",
    "a= 1 + b= 2\n",
    "a+b"
   ]
  },
  {
   "cell_type": "code",
   "execution_count": 64,
   "id": "005037f0-74ca-43c1-bd02-dfc709ae6efe",
   "metadata": {},
   "outputs": [],
   "source": [
    "#this is the variable understanding code\n",
    "a= 3\n",
    "b = 5\n",
    "c = 7\n",
    "d = 10"
   ]
  },
  {
   "cell_type": "code",
   "execution_count": 65,
   "id": "4b22d75b-25af-45f2-8f1a-d27ce8f74ba6",
   "metadata": {},
   "outputs": [
    {
     "data": {
      "text/plain": [
       "5.9"
      ]
     },
     "execution_count": 65,
     "metadata": {},
     "output_type": "execute_result"
    }
   ],
   "source": [
    "a+b-c/d*a"
   ]
  },
  {
   "cell_type": "code",
   "execution_count": 66,
   "id": "cea08f37-7a55-4be2-b0ff-4d851418879e",
   "metadata": {},
   "outputs": [],
   "source": [
    "#thjs is my first line of comment \n",
    "#this is my second line of comment"
   ]
  },
  {
   "cell_type": "code",
   "execution_count": 72,
   "id": "e17ed80c-bbc1-4ae4-911a-92b82983b29e",
   "metadata": {},
   "outputs": [],
   "source": [
    "#Multiline Comments\n",
    "'''\n",
    "This is a multi line comeents\n",
    "I am studying and enjoying\n",
    "'''\n",
    "a= 5"
   ]
  },
  {
   "cell_type": "code",
   "execution_count": 73,
   "id": "aa3c9748-e376-40b1-aa9f-9dc729298d0e",
   "metadata": {},
   "outputs": [
    {
     "data": {
      "text/plain": [
       "5"
      ]
     },
     "execution_count": 73,
     "metadata": {},
     "output_type": "execute_result"
    }
   ],
   "source": [
    "a\n"
   ]
  },
  {
   "cell_type": "code",
   "execution_count": 74,
   "id": "cf657414-ad21-45ae-a73a-453b9de31103",
   "metadata": {},
   "outputs": [
    {
     "name": "stdout",
     "output_type": "stream",
     "text": [
      "hello wolrd\n"
     ]
    }
   ],
   "source": [
    "print('hello wolrd')"
   ]
  },
  {
   "cell_type": "code",
   "execution_count": 75,
   "id": "9e7b7c0c-4408-4079-b2a1-aecfb3b753e6",
   "metadata": {},
   "outputs": [
    {
     "data": {
      "text/plain": [
       "int"
      ]
     },
     "execution_count": 75,
     "metadata": {},
     "output_type": "execute_result"
    }
   ],
   "source": [
    "type(a)"
   ]
  },
  {
   "cell_type": "code",
   "execution_count": 76,
   "id": "4b59be92-8457-4022-8c15-de74f9fee40c",
   "metadata": {},
   "outputs": [],
   "source": [
    "#keyword>> are predefined words that hold a special meaning and have specific power"
   ]
  },
  {
   "cell_type": "code",
   "execution_count": 77,
   "id": "2f91e1dc-6110-4a36-9e68-be4a3e924b6e",
   "metadata": {},
   "outputs": [
    {
     "data": {
      "text/plain": [
       "0.6"
      ]
     },
     "execution_count": 77,
     "metadata": {},
     "output_type": "execute_result"
    }
   ],
   "source": [
    "a = 3/5\n",
    "a"
   ]
  },
  {
   "cell_type": "code",
   "execution_count": 79,
   "id": "6a47edb1-78f2-4868-adf0-82d6f332fcd9",
   "metadata": {},
   "outputs": [],
   "source": [
    "a = 3*5+7/4"
   ]
  },
  {
   "cell_type": "code",
   "execution_count": 80,
   "id": "86331506-f844-46de-b162-56ef2792500c",
   "metadata": {},
   "outputs": [
    {
     "data": {
      "text/plain": [
       "16.75"
      ]
     },
     "execution_count": 80,
     "metadata": {},
     "output_type": "execute_result"
    }
   ],
   "source": [
    "a"
   ]
  },
  {
   "cell_type": "code",
   "execution_count": 82,
   "id": "387976bd-1b14-4e32-b2ac-556c5db854ed",
   "metadata": {},
   "outputs": [
    {
     "name": "stdout",
     "output_type": "stream",
     "text": [
      "\n",
      "Here is a list of the Python keywords.  Enter any keyword to get more help.\n",
      "\n",
      "False               class               from                or\n",
      "None                continue            global              pass\n",
      "True                def                 if                  raise\n",
      "and                 del                 import              return\n",
      "as                  elif                in                  try\n",
      "assert              else                is                  while\n",
      "async               except              lambda              with\n",
      "await               finally             nonlocal            yield\n",
      "break               for                 not                 \n",
      "\n"
     ]
    }
   ],
   "source": [
    "help('keywords')"
   ]
  },
  {
   "cell_type": "code",
   "execution_count": 91,
   "id": "6dc8953e-b72a-4e37-9074-e97afbba97c3",
   "metadata": {},
   "outputs": [
    {
     "name": "stdout",
     "output_type": "stream",
     "text": [
      "greater\n"
     ]
    }
   ],
   "source": [
    "#INDETATION\n",
    "if 3 > 1:\n",
    "    print('greater')"
   ]
  },
  {
   "cell_type": "code",
   "execution_count": 97,
   "id": "9ba5a8ae-edb8-4511-a406-e603214ec343",
   "metadata": {},
   "outputs": [
    {
     "ename": "TypeError",
     "evalue": "unsupported operand type(s) for +: 'type' and 'int'",
     "output_type": "error",
     "traceback": [
      "\u001b[0;31m---------------------------------------------------------------------------\u001b[0m",
      "\u001b[0;31mTypeError\u001b[0m                                 Traceback (most recent call last)",
      "Cell \u001b[0;32mIn[97], line 1\u001b[0m\n\u001b[0;32m----> 1\u001b[0m \u001b[43ma\u001b[49m\u001b[38;5;241;43m+\u001b[39;49m\u001b[43mb\u001b[49m\n",
      "\u001b[0;31mTypeError\u001b[0m: unsupported operand type(s) for +: 'type' and 'int'"
     ]
    }
   ],
   "source": [
    "a+b"
   ]
  },
  {
   "cell_type": "code",
   "execution_count": 99,
   "id": "3b71765b-eab0-4ea7-8ee7-571add0d935b",
   "metadata": {},
   "outputs": [],
   "source": [
    "a = 3 #statement >> fundamental block of code\n",
    "name = \"ajay\"\n",
    "#statement can be of many  tupes >> expression, assignment, conduition statement, loop"
   ]
  },
  {
   "cell_type": "code",
   "execution_count": 100,
   "id": "483e7b4b-6546-486b-8bd1-3acf2f646e01",
   "metadata": {},
   "outputs": [
    {
     "data": {
      "text/plain": [
       "'ajay'"
      ]
     },
     "execution_count": 100,
     "metadata": {},
     "output_type": "execute_result"
    }
   ],
   "source": [
    "name"
   ]
  },
  {
   "cell_type": "code",
   "execution_count": 101,
   "id": "54de8eaf-dc3d-4b80-bf39-7d29f57564b4",
   "metadata": {},
   "outputs": [
    {
     "data": {
      "text/plain": [
       "11"
      ]
     },
     "execution_count": 101,
     "metadata": {},
     "output_type": "execute_result"
    }
   ],
   "source": [
    "a= 5 #assignment\n",
    "b= 6 #assignment\n",
    "a+b #expressuion statement"
   ]
  },
  {
   "cell_type": "code",
   "execution_count": 120,
   "id": "e0c33368-b7d6-4cf1-a8e4-a39e4140e1ae",
   "metadata": {},
   "outputs": [
    {
     "name": "stdin",
     "output_type": "stream",
     "text": [
      "Please enter you name:  2\n"
     ]
    }
   ],
   "source": [
    "#input Output>> if you eant some user to give value of varianle\n",
    "name= input('Please enter you name: ')"
   ]
  },
  {
   "cell_type": "code",
   "execution_count": 121,
   "id": "5d023650-3e1f-4cfd-ae8f-8dd1fc2bdacf",
   "metadata": {},
   "outputs": [
    {
     "data": {
      "text/plain": [
       "'2'"
      ]
     },
     "execution_count": 121,
     "metadata": {},
     "output_type": "execute_result"
    }
   ],
   "source": [
    "name"
   ]
  },
  {
   "cell_type": "code",
   "execution_count": 122,
   "id": "cac9df70-1157-4c29-b3ca-e0fe75f09524",
   "metadata": {},
   "outputs": [
    {
     "data": {
      "text/plain": [
       "'2'"
      ]
     },
     "execution_count": 122,
     "metadata": {},
     "output_type": "execute_result"
    }
   ],
   "source": [
    "name"
   ]
  },
  {
   "cell_type": "code",
   "execution_count": 123,
   "id": "4a659246-3855-4aab-96e8-36113a186b7a",
   "metadata": {},
   "outputs": [
    {
     "data": {
      "text/plain": [
       "str"
      ]
     },
     "execution_count": 123,
     "metadata": {},
     "output_type": "execute_result"
    }
   ],
   "source": [
    "type(name)"
   ]
  },
  {
   "cell_type": "code",
   "execution_count": 124,
   "id": "c8a314ae-a480-4550-ab4d-6eb43d66f770",
   "metadata": {},
   "outputs": [],
   "source": [
    "#input actually take every value as a string\n",
    "#we can convert '2' as int"
   ]
  },
  {
   "cell_type": "code",
   "execution_count": 125,
   "id": "d8873063-600f-4456-8d72-d578643108b0",
   "metadata": {},
   "outputs": [],
   "source": [
    "#'type casting>> cast means t change the format\n",
    "name= int(name)"
   ]
  },
  {
   "cell_type": "code",
   "execution_count": 126,
   "id": "43e64445-6fcb-4e58-a6ae-77697a62d874",
   "metadata": {},
   "outputs": [
    {
     "data": {
      "text/plain": [
       "int"
      ]
     },
     "execution_count": 126,
     "metadata": {},
     "output_type": "execute_result"
    }
   ],
   "source": [
    "type(name)"
   ]
  },
  {
   "cell_type": "code",
   "execution_count": 127,
   "id": "b7d16ec2-6bff-473a-b899-040d7a64bade",
   "metadata": {},
   "outputs": [
    {
     "data": {
      "text/plain": [
       "str"
      ]
     },
     "execution_count": 127,
     "metadata": {},
     "output_type": "execute_result"
    }
   ],
   "source": [
    "a = '3.5'\n",
    "type(a)"
   ]
  },
  {
   "cell_type": "code",
   "execution_count": 128,
   "id": "801f4a10-751a-400c-8825-0ea9ec8d86cb",
   "metadata": {},
   "outputs": [
    {
     "data": {
      "text/plain": [
       "float"
      ]
     },
     "execution_count": 128,
     "metadata": {},
     "output_type": "execute_result"
    }
   ],
   "source": [
    "type(float(a))"
   ]
  },
  {
   "cell_type": "code",
   "execution_count": 129,
   "id": "ea7eb53c-685f-4de1-9a14-d5f19ef17e9f",
   "metadata": {},
   "outputs": [
    {
     "data": {
      "text/plain": [
       "str"
      ]
     },
     "execution_count": 129,
     "metadata": {},
     "output_type": "execute_result"
    }
   ],
   "source": [
    "s = '108'\n",
    "type(s)"
   ]
  },
  {
   "cell_type": "code",
   "execution_count": 130,
   "id": "9ca7a9aa-01a9-4fb9-87c6-bbda31677479",
   "metadata": {},
   "outputs": [
    {
     "data": {
      "text/plain": [
       "108"
      ]
     },
     "execution_count": 130,
     "metadata": {},
     "output_type": "execute_result"
    }
   ],
   "source": [
    "int(s)"
   ]
  },
  {
   "cell_type": "code",
   "execution_count": 131,
   "id": "4b2f53c6-f760-4647-9e40-900d2c5e5c45",
   "metadata": {},
   "outputs": [
    {
     "data": {
      "text/plain": [
       "'108'"
      ]
     },
     "execution_count": 131,
     "metadata": {},
     "output_type": "execute_result"
    }
   ],
   "source": [
    "str(s)"
   ]
  },
  {
   "cell_type": "code",
   "execution_count": 132,
   "id": "fe44b653-d2ef-41cc-b3f8-ba5a631342ff",
   "metadata": {},
   "outputs": [
    {
     "data": {
      "text/plain": [
       "108.0"
      ]
     },
     "execution_count": 132,
     "metadata": {},
     "output_type": "execute_result"
    }
   ],
   "source": [
    "float(s)"
   ]
  },
  {
   "cell_type": "code",
   "execution_count": 133,
   "id": "9fb1dcfe-d877-4f64-9ac6-c139c1a558d7",
   "metadata": {},
   "outputs": [
    {
     "data": {
      "text/plain": [
       "int"
      ]
     },
     "execution_count": 133,
     "metadata": {},
     "output_type": "execute_result"
    }
   ],
   "source": [
    "a = 121\n",
    "type(a)"
   ]
  },
  {
   "cell_type": "code",
   "execution_count": 134,
   "id": "adc570e1-c017-490d-a7d5-424a9b09ab13",
   "metadata": {},
   "outputs": [
    {
     "data": {
      "text/plain": [
       "str"
      ]
     },
     "execution_count": 134,
     "metadata": {},
     "output_type": "execute_result"
    }
   ],
   "source": [
    "type(str(a))"
   ]
  },
  {
   "cell_type": "code",
   "execution_count": 135,
   "id": "f97f73c7-a6fd-4f80-ae3d-bacde629a815",
   "metadata": {},
   "outputs": [
    {
     "data": {
      "text/plain": [
       "False"
      ]
     },
     "execution_count": 135,
     "metadata": {},
     "output_type": "execute_result"
    }
   ],
   "source": [
    "bool(0)"
   ]
  },
  {
   "cell_type": "code",
   "execution_count": 136,
   "id": "019b46ad-68d5-496d-9bc6-85b610e42acd",
   "metadata": {},
   "outputs": [
    {
     "data": {
      "text/plain": [
       "True"
      ]
     },
     "execution_count": 136,
     "metadata": {},
     "output_type": "execute_result"
    }
   ],
   "source": [
    "bool(1)"
   ]
  },
  {
   "cell_type": "code",
   "execution_count": 138,
   "id": "e8b16fe0-4892-4a68-9783-0f606f0d2cb5",
   "metadata": {},
   "outputs": [
    {
     "ename": "ValueError",
     "evalue": "invalid literal for int() with base 10: 'ajay'",
     "output_type": "error",
     "traceback": [
      "\u001b[0;31m---------------------------------------------------------------------------\u001b[0m",
      "\u001b[0;31mValueError\u001b[0m                                Traceback (most recent call last)",
      "Cell \u001b[0;32mIn[138], line 2\u001b[0m\n\u001b[1;32m      1\u001b[0m a \u001b[38;5;241m=\u001b[39m \u001b[38;5;124m'\u001b[39m\u001b[38;5;124majay\u001b[39m\u001b[38;5;124m'\u001b[39m\n\u001b[0;32m----> 2\u001b[0m \u001b[38;5;28mstr\u001b[39m(\u001b[38;5;28;43mint\u001b[39;49m\u001b[43m(\u001b[49m\u001b[43ma\u001b[49m\u001b[43m)\u001b[49m)\n",
      "\u001b[0;31mValueError\u001b[0m: invalid literal for int() with base 10: 'ajay'"
     ]
    }
   ],
   "source": [
    "a = 'ajay'\n",
    "str(int(a))"
   ]
  },
  {
   "cell_type": "code",
   "execution_count": 141,
   "id": "f334e0cc-592d-4396-a30c-969b407a1d54",
   "metadata": {},
   "outputs": [],
   "source": [
    "#python is the case sensetive language, please check while writing any code\n",
    "\n",
    "a = 5\n",
    "A =10"
   ]
  },
  {
   "cell_type": "code",
   "execution_count": 142,
   "id": "b8de9f81-6677-446f-8940-3bece2adcc82",
   "metadata": {},
   "outputs": [
    {
     "data": {
      "text/plain": [
       "10"
      ]
     },
     "execution_count": 142,
     "metadata": {},
     "output_type": "execute_result"
    }
   ],
   "source": [
    "A"
   ]
  },
  {
   "cell_type": "code",
   "execution_count": 1,
   "id": "cfc9d4a6-f1d2-4f6d-830c-97493e3689db",
   "metadata": {},
   "outputs": [],
   "source": [
    "#print= \"ajay\"\n"
   ]
  },
  {
   "cell_type": "code",
   "execution_count": 2,
   "id": "62770ab9-f357-449a-b4d9-54dc1a13288e",
   "metadata": {},
   "outputs": [
    {
     "data": {
      "text/plain": [
       "<function print>"
      ]
     },
     "execution_count": 2,
     "metadata": {},
     "output_type": "execute_result"
    }
   ],
   "source": [
    "print"
   ]
  },
  {
   "cell_type": "code",
   "execution_count": 3,
   "id": "7023c1a3-93d7-4419-b38f-890f44e467e2",
   "metadata": {},
   "outputs": [
    {
     "name": "stdout",
     "output_type": "stream",
     "text": [
      "wolrd\n"
     ]
    }
   ],
   "source": [
    "print('wolrd')"
   ]
  },
  {
   "cell_type": "code",
   "execution_count": null,
   "id": "b5b7e28f-f1bb-4d85-9eab-87319ed6c5e0",
   "metadata": {},
   "outputs": [],
   "source": []
  }
 ],
 "metadata": {
  "kernelspec": {
   "display_name": "Python 3 (ipykernel)",
   "language": "python",
   "name": "python3"
  },
  "language_info": {
   "codemirror_mode": {
    "name": "ipython",
    "version": 3
   },
   "file_extension": ".py",
   "mimetype": "text/x-python",
   "name": "python",
   "nbconvert_exporter": "python",
   "pygments_lexer": "ipython3",
   "version": "3.10.8"
  }
 },
 "nbformat": 4,
 "nbformat_minor": 5
}
