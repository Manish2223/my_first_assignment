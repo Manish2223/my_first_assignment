{
 "cells": [
  {
   "cell_type": "code",
   "execution_count": 1,
   "id": "19043809-04e0-4412-9132-7dfff34cbcdc",
   "metadata": {},
   "outputs": [],
   "source": [
    "a = 6"
   ]
  },
  {
   "cell_type": "code",
   "execution_count": 3,
   "id": "ac8f9d3d-537b-4b8e-b8be-71e06b1f42bf",
   "metadata": {},
   "outputs": [
    {
     "data": {
      "text/plain": [
       "6"
      ]
     },
     "execution_count": 3,
     "metadata": {},
     "output_type": "execute_result"
    }
   ],
   "source": [
    "a # in the momory, a memory block is creratte with reference name a and value 6"
   ]
  },
  {
   "cell_type": "code",
   "execution_count": 4,
   "id": "0363fa14-9cb4-449e-b324-8d1da8cfa9a3",
   "metadata": {},
   "outputs": [],
   "source": [
    "b = \"manish\"\n"
   ]
  },
  {
   "cell_type": "code",
   "execution_count": 5,
   "id": "c8d90109-e92d-4c93-ab01-c3418bf82c19",
   "metadata": {},
   "outputs": [
    {
     "data": {
      "text/plain": [
       "'manish'"
      ]
     },
     "execution_count": 5,
     "metadata": {},
     "output_type": "execute_result"
    }
   ],
   "source": [
    "b"
   ]
  },
  {
   "cell_type": "code",
   "execution_count": 6,
   "id": "c40aa154-30d8-4041-aac3-e8ec34c2ee88",
   "metadata": {},
   "outputs": [
    {
     "data": {
      "text/plain": [
       "'m'"
      ]
     },
     "execution_count": 6,
     "metadata": {},
     "output_type": "execute_result"
    }
   ],
   "source": [
    "b[0]"
   ]
  },
  {
   "cell_type": "code",
   "execution_count": 7,
   "id": "58402294-4d30-478c-b00a-d21e6c4764da",
   "metadata": {},
   "outputs": [
    {
     "data": {
      "text/plain": [
       "'s'"
      ]
     },
     "execution_count": 7,
     "metadata": {},
     "output_type": "execute_result"
    }
   ],
   "source": [
    "b[-2]"
   ]
  },
  {
   "cell_type": "code",
   "execution_count": 19,
   "id": "66350b53-18e1-455d-a693-5f0030aab77f",
   "metadata": {},
   "outputs": [],
   "source": [
    "#another type of data container\n",
    "a =[1,2,3,4,5, 4.5, 3+5j, True, 'Manish']"
   ]
  },
  {
   "cell_type": "code",
   "execution_count": 23,
   "id": "7ed279e1-61f3-4c2b-aaab-c444068643ff",
   "metadata": {},
   "outputs": [
    {
     "data": {
      "text/plain": [
       "[1, 2, 3, 4, 5, 4.5, (3+5j), True, 'Manish']"
      ]
     },
     "execution_count": 23,
     "metadata": {},
     "output_type": "execute_result"
    }
   ],
   "source": [
    "a"
   ]
  },
  {
   "cell_type": "code",
   "execution_count": 24,
   "id": "2f07d1ba-937f-4e92-8143-5781377b47e2",
   "metadata": {},
   "outputs": [
    {
     "data": {
      "text/plain": [
       "4"
      ]
     },
     "execution_count": 24,
     "metadata": {},
     "output_type": "execute_result"
    }
   ],
   "source": [
    "list_cont[5-2]"
   ]
  },
  {
   "cell_type": "code",
   "execution_count": 22,
   "id": "4cae9fc6-21de-4e22-b418-74fffcaa6eeb",
   "metadata": {},
   "outputs": [
    {
     "data": {
      "text/plain": [
       "list"
      ]
     },
     "execution_count": 22,
     "metadata": {},
     "output_type": "execute_result"
    }
   ],
   "source": [
    "type(list_cont)"
   ]
  },
  {
   "cell_type": "code",
   "execution_count": 25,
   "id": "4af2bfbb-08c0-4b92-b2c2-65a07b50110a",
   "metadata": {},
   "outputs": [
    {
     "data": {
      "text/plain": [
       "[1, 2, 3, 4, 5, 4.5, (3+5j), True, 'Manish']"
      ]
     },
     "execution_count": 25,
     "metadata": {},
     "output_type": "execute_result"
    }
   ],
   "source": [
    "a"
   ]
  },
  {
   "cell_type": "code",
   "execution_count": 26,
   "id": "d2e9624c-5226-4033-9282-97aeae3ae3fd",
   "metadata": {},
   "outputs": [],
   "source": [
    "#mutability\n",
    "a[8] = 'ajay'"
   ]
  },
  {
   "cell_type": "code",
   "execution_count": 27,
   "id": "2856f366-2d48-4c14-9034-44e8b7486dbd",
   "metadata": {},
   "outputs": [
    {
     "data": {
      "text/plain": [
       "[1, 2, 3, 4, 5, 4.5, (3+5j), True, 'ajay']"
      ]
     },
     "execution_count": 27,
     "metadata": {},
     "output_type": "execute_result"
    }
   ],
   "source": [
    "a"
   ]
  },
  {
   "cell_type": "code",
   "execution_count": 28,
   "id": "b9bf2781-edca-479c-9291-b8efa0cdfcc1",
   "metadata": {},
   "outputs": [
    {
     "data": {
      "text/plain": [
       "[1, 2, 3, 4, 5, 4.5, (3+5j), True, 'ajay']"
      ]
     },
     "execution_count": 28,
     "metadata": {},
     "output_type": "execute_result"
    }
   ],
   "source": [
    "a"
   ]
  },
  {
   "cell_type": "code",
   "execution_count": 29,
   "id": "44387f02-d240-4017-b863-28d145c15de5",
   "metadata": {},
   "outputs": [],
   "source": [
    "a[1]= 'pwskills'"
   ]
  },
  {
   "cell_type": "code",
   "execution_count": 30,
   "id": "27087ed1-3d2b-4d18-ba7f-ce1aecadda31",
   "metadata": {},
   "outputs": [
    {
     "data": {
      "text/plain": [
       "[1, 'pwskills', 3, 4, 5, 4.5, (3+5j), True, 'ajay']"
      ]
     },
     "execution_count": 30,
     "metadata": {},
     "output_type": "execute_result"
    }
   ],
   "source": [
    "a"
   ]
  },
  {
   "cell_type": "code",
   "execution_count": 41,
   "id": "553fc87a-0ca4-4b94-81d7-79e849903b57",
   "metadata": {},
   "outputs": [],
   "source": [
    "#objects/container whose sate or vlaue can be change after they are created are \n",
    "#called as mutbale objects or container\n",
    "#list is a type of mutable objects/ supports items assignments"
   ]
  },
  {
   "cell_type": "code",
   "execution_count": 50,
   "id": "87d3591e-2967-4e13-b4a7-02d9d480197b",
   "metadata": {},
   "outputs": [],
   "source": [
    "b ='manish'"
   ]
  },
  {
   "cell_type": "code",
   "execution_count": 51,
   "id": "ed6bd975-ccfb-4a60-b475-41b57e02ec3d",
   "metadata": {},
   "outputs": [
    {
     "data": {
      "text/plain": [
       "'manish'"
      ]
     },
     "execution_count": 51,
     "metadata": {},
     "output_type": "execute_result"
    }
   ],
   "source": [
    "b"
   ]
  },
  {
   "cell_type": "code",
   "execution_count": 52,
   "id": "8fe7f5cf-4bd7-467d-a9b1-fcc0285a5fd7",
   "metadata": {},
   "outputs": [
    {
     "data": {
      "text/plain": [
       "'s'"
      ]
     },
     "execution_count": 52,
     "metadata": {},
     "output_type": "execute_result"
    }
   ],
   "source": [
    "b[4]"
   ]
  },
  {
   "cell_type": "code",
   "execution_count": 55,
   "id": "752aff4f-5b21-4180-8ede-43fa084855d5",
   "metadata": {},
   "outputs": [
    {
     "data": {
      "text/plain": [
       "'manishh'"
      ]
     },
     "execution_count": 55,
     "metadata": {},
     "output_type": "execute_result"
    }
   ],
   "source": [
    "b[0:6]+ 'h'"
   ]
  },
  {
   "cell_type": "code",
   "execution_count": 56,
   "id": "4d7d5aae-149b-473b-9e11-056c7e4fbc9a",
   "metadata": {},
   "outputs": [
    {
     "data": {
      "text/plain": [
       "'manish'"
      ]
     },
     "execution_count": 56,
     "metadata": {},
     "output_type": "execute_result"
    }
   ],
   "source": [
    "b"
   ]
  },
  {
   "cell_type": "code",
   "execution_count": 61,
   "id": "13fdb3aa-55ad-4594-93d5-11566ed3e97f",
   "metadata": {},
   "outputs": [
    {
     "name": "stdin",
     "output_type": "stream",
     "text": [
      "Please enter your name:  Manish Nanda\n"
     ]
    }
   ],
   "source": [
    "name= input(\"Please enter your name: \")"
   ]
  },
  {
   "cell_type": "code",
   "execution_count": 62,
   "id": "a6fee029-d7cb-414c-80c1-8e9485a3ae88",
   "metadata": {},
   "outputs": [
    {
     "data": {
      "text/plain": [
       "'Manish Nanda'"
      ]
     },
     "execution_count": 62,
     "metadata": {},
     "output_type": "execute_result"
    }
   ],
   "source": [
    "name"
   ]
  },
  {
   "cell_type": "code",
   "execution_count": 63,
   "id": "d4932ad4-86ce-4ce6-a492-ea5f392163e3",
   "metadata": {},
   "outputs": [
    {
     "data": {
      "text/plain": [
       "'Manish Nanda'"
      ]
     },
     "execution_count": 63,
     "metadata": {},
     "output_type": "execute_result"
    }
   ],
   "source": [
    "name"
   ]
  },
  {
   "cell_type": "code",
   "execution_count": 66,
   "id": "94645c3b-ce99-4e23-9b31-197f7c92b734",
   "metadata": {},
   "outputs": [
    {
     "data": {
      "text/plain": [
       "'h'"
      ]
     },
     "execution_count": 66,
     "metadata": {},
     "output_type": "execute_result"
    }
   ],
   "source": [
    "name[10-5]"
   ]
  },
  {
   "cell_type": "code",
   "execution_count": null,
   "id": "e1086c3e-98f3-40f4-b877-9ae916eff26c",
   "metadata": {},
   "outputs": [],
   "source": []
  }
 ],
 "metadata": {
  "kernelspec": {
   "display_name": "Python 3 (ipykernel)",
   "language": "python",
   "name": "python3"
  },
  "language_info": {
   "codemirror_mode": {
    "name": "ipython",
    "version": 3
   },
   "file_extension": ".py",
   "mimetype": "text/x-python",
   "name": "python",
   "nbconvert_exporter": "python",
   "pygments_lexer": "ipython3",
   "version": "3.10.8"
  }
 },
 "nbformat": 4,
 "nbformat_minor": 5
}
