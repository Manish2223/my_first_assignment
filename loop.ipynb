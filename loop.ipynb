{
 "cells": [
  {
   "cell_type": "code",
   "execution_count": 1,
   "id": "41f751db-0563-46eb-8cf9-ab31d2a4f9ab",
   "metadata": {},
   "outputs": [],
   "source": [
    "#loop statement>>it allows you to execute the block of code repeatedly\n",
    "#loops>> while loop and for loops\n"
   ]
  },
  {
   "cell_type": "code",
   "execution_count": 3,
   "id": "d189bfbd-ec87-4656-82b8-2df34493b80d",
   "metadata": {},
   "outputs": [],
   "source": [
    "#while loop>> repetedly execute a block of code untill a condition is met"
   ]
  },
  {
   "cell_type": "code",
   "execution_count": null,
   "id": "611df6b7-aaf0-45a9-bf79-c60a198c6e6d",
   "metadata": {},
   "outputs": [],
   "source": [
    "#syntax\n",
    "#while condition>>block of code\n",
    "#is a key word ised for a while loop"
   ]
  },
  {
   "cell_type": "code",
   "execution_count": 11,
   "id": "a9dca03c-9caa-4d7f-94e5-1c4d553fa880",
   "metadata": {},
   "outputs": [
    {
     "name": "stdout",
     "output_type": "stream",
     "text": [
      "1\n",
      "2\n",
      "3\n",
      "4\n",
      "5\n",
      "6\n"
     ]
    }
   ],
   "source": [
    "n = 7\n",
    "i = 1\n",
    "while i < n:\n",
    "    print(i)\n",
    "    i = i+1"
   ]
  },
  {
   "cell_type": "code",
   "execution_count": 16,
   "id": "fbe8cd96-cf19-42eb-aa7f-559a50927651",
   "metadata": {},
   "outputs": [
    {
     "name": "stdout",
     "output_type": "stream",
     "text": [
      "5\n",
      "4\n",
      "3\n",
      "2\n",
      "1\n"
     ]
    }
   ],
   "source": [
    "count = 5\n",
    "while count > 0:\n",
    "    print(count)\n",
    "    count = count - 1"
   ]
  },
  {
   "cell_type": "code",
   "execution_count": 21,
   "id": "751182a0-ce67-44dd-a89d-9e748aaf5a11",
   "metadata": {},
   "outputs": [
    {
     "name": "stdout",
     "output_type": "stream",
     "text": [
      "1\n",
      "2\n",
      "3\n",
      "4\n",
      "5\n",
      "6\n",
      "this will be executed when the while loop run successfully without break\n"
     ]
    }
   ],
   "source": [
    "n = 7\n",
    "i = 1\n",
    "while i < n:\n",
    "    print(i)\n",
    "    i = i+1\n",
    "else:\n",
    "    print('this will be executed when the while loop run successfully without break')"
   ]
  },
  {
   "cell_type": "code",
   "execution_count": 27,
   "id": "ce2504aa-ef0c-4fac-b0df-9eb7695a4f04",
   "metadata": {},
   "outputs": [
    {
     "name": "stdout",
     "output_type": "stream",
     "text": [
      "1\n",
      "2\n"
     ]
    }
   ],
   "source": [
    "#break terminates/exits the loop\n",
    "#the condition is met it will break the loop\n",
    "n = 7\n",
    "i = 1\n",
    "while i < n:\n",
    "    print(i)\n",
    "    i = i+1\n",
    "    if i == 3:\n",
    "        break\n",
    "else:\n",
    "    print('this will be executed when the while loop run successfully without break')"
   ]
  },
  {
   "cell_type": "code",
   "execution_count": 29,
   "id": "c8331a5f-46c7-4d76-9d6f-bf80b16de858",
   "metadata": {},
   "outputs": [
    {
     "name": "stdout",
     "output_type": "stream",
     "text": [
      "2\n",
      "4\n",
      "5\n",
      "6\n",
      "7\n",
      "this will be executed when the while loop run successfully without break\n"
     ]
    }
   ],
   "source": [
    "#continue statement>> skips the iteration\n",
    "\n",
    "n = 7\n",
    "i = 1\n",
    "while i < n:\n",
    "    i = i+1\n",
    "    if i == 3:\n",
    "        continue\n",
    "    print(i)\n",
    "else:\n",
    "    print('this will be executed when the while loop run successfully without break')"
   ]
  },
  {
   "cell_type": "code",
   "execution_count": 30,
   "id": "4e481cf9-7d57-4b15-8b9e-11d4fa59e535",
   "metadata": {},
   "outputs": [
    {
     "name": "stdout",
     "output_type": "stream",
     "text": [
      "m\n",
      "a\n",
      "n\n",
      "i\n",
      "s\n",
      "h\n"
     ]
    }
   ],
   "source": [
    "#for loops>> iterate over a sequence of elements>> str, lists\n",
    "for i in \"manish\":\n",
    "    print(i)"
   ]
  },
  {
   "cell_type": "code",
   "execution_count": 36,
   "id": "b016c49f-7fc8-477d-ba99-9d8fc15e0a7c",
   "metadata": {},
   "outputs": [
    {
     "name": "stdout",
     "output_type": "stream",
     "text": [
      "pwskills\n",
      "7.4\n",
      "manish\n",
      "45\n",
      "(4+5j)\n"
     ]
    }
   ],
   "source": [
    "a = ['pwskills', 7.4, 'manish', 45, 4+5j]\n",
    "for i in a:\n",
    "    print(i)"
   ]
  },
  {
   "cell_type": "code",
   "execution_count": 43,
   "id": "532d3389-9b66-4caa-a56a-8c61163f1d67",
   "metadata": {},
   "outputs": [
    {
     "name": "stdout",
     "output_type": "stream",
     "text": [
      "pwskills\n",
      "7.4\n",
      "manish\n",
      "45\n",
      "(4+5j)\n",
      "this will executed when for loop ends without break statements\n"
     ]
    }
   ],
   "source": [
    "for i in a:\n",
    "    print(i)\n",
    "else:\n",
    "    print('this will executed when for loop ends without break statements')"
   ]
  },
  {
   "cell_type": "code",
   "execution_count": 42,
   "id": "1d942c27-d79e-4dd2-b70c-24fa6c476d62",
   "metadata": {},
   "outputs": [
    {
     "name": "stdout",
     "output_type": "stream",
     "text": [
      "pwskills\n",
      "7.4\n",
      "manish\n"
     ]
    }
   ],
   "source": [
    "#break statements i for loop\n",
    "\n",
    "for i in a:\n",
    "    if i == 45:\n",
    "        break\n",
    "    print(i)\n",
    "else:\n",
    "      print('this will executed when for loop ends without break statements')"
   ]
  },
  {
   "cell_type": "code",
   "execution_count": 44,
   "id": "fd99d05b-97fe-4ee8-9bb3-94355536673b",
   "metadata": {},
   "outputs": [
    {
     "name": "stdout",
     "output_type": "stream",
     "text": [
      "pwskills\n",
      "7.4\n",
      "manish\n",
      "(4+5j)\n",
      "this will executed when for loop ends without break statements\n"
     ]
    }
   ],
   "source": [
    "for i in a:\n",
    "    if i == 45:\n",
    "        continue\n",
    "    print(i)\n",
    "else:\n",
    "      print('this will executed when for loop ends without break statements')"
   ]
  },
  {
   "cell_type": "code",
   "execution_count": 50,
   "id": "fe069c8d-6e0f-479e-9c0b-f9ac545d0f5c",
   "metadata": {},
   "outputs": [
    {
     "data": {
      "text/plain": [
       "[0, 1, 2, 3, 4, 5, 6, 7, 8, 9]"
      ]
     },
     "execution_count": 50,
     "metadata": {},
     "output_type": "execute_result"
    }
   ],
   "source": [
    "list(range(0, 10))#it will give value from 0-9"
   ]
  },
  {
   "cell_type": "code",
   "execution_count": 57,
   "id": "9fe3b834-1322-414b-9310-d6455b4c967a",
   "metadata": {},
   "outputs": [
    {
     "name": "stdout",
     "output_type": "stream",
     "text": [
      "0123456789"
     ]
    }
   ],
   "source": [
    "for i in range(10):\n",
    "    print(i, end=\"\")"
   ]
  },
  {
   "cell_type": "code",
   "execution_count": 2,
   "id": "a408d625-548b-4e7c-a352-4eee158da08a",
   "metadata": {},
   "outputs": [
    {
     "data": {
      "text/plain": [
       "[0, 5, 10, 15, 20, 25, 30, 35, 40, 45, 50, 55, 60, 65, 70, 75, 80, 85, 90, 95]"
      ]
     },
     "execution_count": 2,
     "metadata": {},
     "output_type": "execute_result"
    }
   ],
   "source": [
    "#syntx of range(start, stop, step)\n",
    "list(range(0, 100, 5))"
   ]
  },
  {
   "cell_type": "code",
   "execution_count": null,
   "id": "c7088702-880b-4e69-ac69-1a092f897e5d",
   "metadata": {},
   "outputs": [],
   "source": [
    "#problem statement\n",
    "#print a right angle with * using while loop"
   ]
  },
  {
   "cell_type": "code",
   "execution_count": 4,
   "id": "f2319104-177d-4e73-b049-05df63fc5615",
   "metadata": {},
   "outputs": [
    {
     "name": "stdout",
     "output_type": "stream",
     "text": [
      "*   \n",
      "*   *   \n",
      "*   *   *   \n",
      "*   *   *   *   \n"
     ]
    }
   ],
   "source": [
    "row = 1\n",
    "while row <= 4:\n",
    "    col = 1\n",
    "    while col<=row:\n",
    "        print(\"*\", end = '   ')\n",
    "        col = col + 1\n",
    "    print()\n",
    "    row = row+1"
   ]
  },
  {
   "cell_type": "code",
   "execution_count": null,
   "id": "15979570-14ce-4eac-81d7-1fd152ee7ea3",
   "metadata": {},
   "outputs": [],
   "source": [
    "#problem statement\n",
    "#print a right angle with * using for loop"
   ]
  },
  {
   "cell_type": "code",
   "execution_count": 10,
   "id": "85e7cedc-3aab-42fe-8a80-4a1040c5882e",
   "metadata": {},
   "outputs": [
    {
     "name": "stdout",
     "output_type": "stream",
     "text": [
      "* \n",
      "* * \n",
      "* * * \n",
      "* * * * \n",
      "* * * * * \n"
     ]
    }
   ],
   "source": [
    "for i in range(5):\n",
    "    for j in range(i+1):\n",
    "        print('*', end = ' ')\n",
    "    print()"
   ]
  },
  {
   "cell_type": "code",
   "execution_count": 24,
   "id": "a176458f-e390-4f9d-8193-1a783f3414f6",
   "metadata": {},
   "outputs": [
    {
     "name": "stdout",
     "output_type": "stream",
     "text": [
      "1\n",
      "2\n"
     ]
    }
   ],
   "source": [
    "#conditionals with for loops\n",
    "number = [1, 2, 3, 4, 5, 6, 7, 8, 9]\n",
    "for num in number:\n",
    "    if (num == 3) or (num == 7):\n",
    "        break\n",
    "    print(num)"
   ]
  },
  {
   "cell_type": "code",
   "execution_count": 25,
   "id": "4c8c3e11-5006-49d2-b227-a74987866a43",
   "metadata": {},
   "outputs": [
    {
     "name": "stdout",
     "output_type": "stream",
     "text": [
      "0\n",
      "2\n",
      "4\n",
      "6\n",
      "8\n"
     ]
    }
   ],
   "source": [
    "#PRINT THE EVEN NO\n",
    "for i in range(10):\n",
    "    if i %2 != 0:\n",
    "        continue\n",
    "    print(i)"
   ]
  },
  {
   "cell_type": "code",
   "execution_count": 26,
   "id": "46e850ba-e5ef-4501-8f83-27bdd91cf9c6",
   "metadata": {},
   "outputs": [
    {
     "name": "stdout",
     "output_type": "stream",
     "text": [
      "1\n",
      "3\n",
      "5\n",
      "7\n",
      "9\n"
     ]
    }
   ],
   "source": [
    "#PRINT THE ODD NO\n",
    "for i in range(10):\n",
    "    if i %2 == 0:\n",
    "        continue\n",
    "    print(i)"
   ]
  },
  {
   "cell_type": "code",
   "execution_count": 5,
   "id": "c9eceb30-3377-40bb-b994-8b070eaa5877",
   "metadata": {},
   "outputs": [
    {
     "name": "stdout",
     "output_type": "stream",
     "text": [
      "1 * 1 = 1\n",
      "1 * 2 = 2\n",
      "1 * 3 = 3\n",
      "1 * 4 = 4\n",
      "1 * 5 = 5\n",
      "1 * 6 = 6\n",
      "1 * 7 = 7\n",
      "1 * 8 = 8\n",
      "1 * 9 = 9\n",
      "1 * 10 = 10\n",
      "\n",
      "2 * 1 = 2\n",
      "2 * 2 = 4\n",
      "2 * 3 = 6\n",
      "2 * 4 = 8\n",
      "2 * 5 = 10\n",
      "2 * 6 = 12\n",
      "2 * 7 = 14\n",
      "2 * 8 = 16\n",
      "2 * 9 = 18\n",
      "2 * 10 = 20\n",
      "\n",
      "3 * 1 = 3\n",
      "3 * 2 = 6\n",
      "3 * 3 = 9\n",
      "3 * 4 = 12\n",
      "3 * 5 = 15\n",
      "3 * 6 = 18\n",
      "3 * 7 = 21\n",
      "3 * 8 = 24\n",
      "3 * 9 = 27\n",
      "3 * 10 = 30\n",
      "\n",
      "4 * 1 = 4\n",
      "4 * 2 = 8\n",
      "4 * 3 = 12\n",
      "4 * 4 = 16\n",
      "4 * 5 = 20\n",
      "4 * 6 = 24\n",
      "4 * 7 = 28\n",
      "4 * 8 = 32\n",
      "4 * 9 = 36\n",
      "4 * 10 = 40\n",
      "\n",
      "5 * 1 = 5\n",
      "5 * 2 = 10\n",
      "5 * 3 = 15\n",
      "5 * 4 = 20\n",
      "5 * 5 = 25\n",
      "5 * 6 = 30\n",
      "5 * 7 = 35\n",
      "5 * 8 = 40\n",
      "5 * 9 = 45\n",
      "5 * 10 = 50\n",
      "\n"
     ]
    }
   ],
   "source": [
    "#multiplication table\n",
    "for i in range(1, 6):\n",
    "    for j in range(1, 11):\n",
    "        product = i * j\n",
    "        print(f\"{i} * {j} = {product}\")\n",
    "    print()"
   ]
  },
  {
   "cell_type": "code",
   "execution_count": null,
   "id": "b8c1cd9c-bd42-4c9a-b5fc-994b4cf2e672",
   "metadata": {},
   "outputs": [],
   "source": []
  }
 ],
 "metadata": {
  "kernelspec": {
   "display_name": "Python 3 (ipykernel)",
   "language": "python",
   "name": "python3"
  },
  "language_info": {
   "codemirror_mode": {
    "name": "ipython",
    "version": 3
   },
   "file_extension": ".py",
   "mimetype": "text/x-python",
   "name": "python",
   "nbconvert_exporter": "python",
   "pygments_lexer": "ipython3",
   "version": "3.10.8"
  }
 },
 "nbformat": 4,
 "nbformat_minor": 5
}
